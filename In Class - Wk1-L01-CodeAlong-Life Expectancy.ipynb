{
 "cells": [
  {
   "cell_type": "markdown",
   "id": "0eba0efa",
   "metadata": {},
   "source": [
    "# Week 17, Lecture 01 CodeAlong\n",
    "- Coefficients & Feature Importance"
   ]
  },
  {
   "cell_type": "markdown",
   "id": "0fc21da5",
   "metadata": {},
   "source": [
    "## Lesson Objectives"
   ]
  },
  {
   "cell_type": "markdown",
   "id": "23a92cad",
   "metadata": {},
   "source": [
    "- By the end of this lesson, students will be able to:\n",
    "    - Extract feature names from sklearn v1.1 objects\n",
    "    - Extract and visualize coefficients\n",
    "    - Save models to a joblib file\n"
   ]
  },
  {
   "cell_type": "markdown",
   "id": "f442e2da",
   "metadata": {},
   "source": [
    "# Business Problem\n",
    "\n",
    "The World Health Organization is creating a task force to increase life expectancy around the world.  They want to to focus their efforts on areas where countries can change to help their people live longer.\n",
    "\n",
    "They have tasked you with identifying which statistics about each county have the greatest impact on life expectancy and how those could change in increase the lifespan of the population."
   ]
  },
  {
   "cell_type": "markdown",
   "id": "dc5c874e",
   "metadata": {},
   "source": [
    "### The Data\n",
    "\n",
    "Data comes from the World Health Organization.  It describes demographic, health, and economic data from countries around the world between 2000 and 2015. \n",
    "\n",
    "Each row is one country during one year."
   ]
  },
  {
   "cell_type": "markdown",
   "id": "031af932",
   "metadata": {},
   "source": [
    "> Task Inspired by: https://medium.com/@shanzehhaji/using-a-linear-regression-model-to-predict-life-expectancy-de3aef66ac21\n",
    "\n",
    "- Kaggle Dataset on Life Expectancy:\n",
    "    - https://www.kaggle.com/datasets/kumarajarshi/life-expectancy-who"
   ]
  },
  {
   "cell_type": "code",
   "execution_count": 1,
   "id": "94a13e42",
   "metadata": {
    "ExecuteTime": {
     "end_time": "2023-08-21T19:31:53.860943Z",
     "start_time": "2023-08-21T19:31:52.308087Z"
    }
   },
   "outputs": [],
   "source": [
    "## Our standard imports\n",
    "import pandas as pd\n",
    "import numpy as np\n",
    "import matplotlib.pyplot as plt\n",
    "import seaborn as sns\n",
    "\n",
    "## Preprocessing tools\n",
    "from sklearn.model_selection import train_test_split\n",
    "from sklearn.compose import ColumnTransformer, make_column_selector\n",
    "from sklearn.pipeline import make_pipeline\n",
    "from sklearn.preprocessing import OneHotEncoder, StandardScaler\n",
    "from sklearn.impute import SimpleImputer\n",
    "\n",
    "## Models & evaluation metrics\n",
    "from sklearn import metrics\n",
    "from sklearn.linear_model import LinearRegression\n",
    "from sklearn.tree import DecisionTreeRegressor\n",
    "from sklearn.ensemble import RandomForestRegressor\n",
    "\n",
    "from sklearn import set_config\n",
    "set_config(transform_output='pandas')\n",
    "\n",
    "import joblib\n",
    "\n",
    "## setting random state for reproducibility\n",
    "SEED = 321\n",
    "np.random.seed(SEED)\n",
    "## Matplotlib style\n",
    "fav_style = ('ggplot','tableau-colorblind10')\n",
    "fav_context  ={'context':'notebook', 'font_scale':1.1}\n",
    "plt.style.use(fav_style)\n",
    "sns.set_context(**fav_context)\n",
    "plt.rcParams['savefig.transparent'] = False\n",
    "plt.rcParams['savefig.bbox'] = 'tight'"
   ]
  },
  {
   "cell_type": "code",
   "execution_count": 2,
   "id": "8ae06358",
   "metadata": {
    "ExecuteTime": {
     "end_time": "2023-08-21T19:31:53.906817Z",
     "start_time": "2023-08-21T19:31:53.861944Z"
    }
   },
   "outputs": [
    {
     "name": "stdout",
     "output_type": "stream",
     "text": [
      "<class 'pandas.core.frame.DataFrame'>\n",
      "RangeIndex: 2938 entries, 0 to 2937\n",
      "Data columns (total 22 columns):\n",
      " #   Column                           Non-Null Count  Dtype  \n",
      "---  ------                           --------------  -----  \n",
      " 0   Country                          2938 non-null   object \n",
      " 1   Year                             2938 non-null   int64  \n",
      " 2   Status                           2938 non-null   object \n",
      " 3   Life expectancy                  2928 non-null   float64\n",
      " 4   Adult Mortality                  2928 non-null   float64\n",
      " 5   infant deaths                    2938 non-null   int64  \n",
      " 6   Alcohol                          2744 non-null   float64\n",
      " 7   percentage expenditure           2938 non-null   float64\n",
      " 8   Hepatitis B                      2385 non-null   float64\n",
      " 9   Measles                          2938 non-null   int64  \n",
      " 10   BMI                             2904 non-null   float64\n",
      " 11  under-five deaths                2938 non-null   int64  \n",
      " 12  Polio                            2919 non-null   float64\n",
      " 13  Total expenditure                2712 non-null   float64\n",
      " 14  Diphtheria                       2919 non-null   float64\n",
      " 15   HIV/AIDS                        2938 non-null   float64\n",
      " 16  GDP                              2490 non-null   float64\n",
      " 17  Population                       2286 non-null   float64\n",
      " 18   thinness  1-19 years            2904 non-null   float64\n",
      " 19   thinness 5-9 years              2904 non-null   float64\n",
      " 20  Income composition of resources  2771 non-null   float64\n",
      " 21  Schooling                        2775 non-null   float64\n",
      "dtypes: float64(16), int64(4), object(2)\n",
      "memory usage: 505.1+ KB\n"
     ]
    },
    {
     "data": {
      "text/html": [
       "<div>\n",
       "<style scoped>\n",
       "    .dataframe tbody tr th:only-of-type {\n",
       "        vertical-align: middle;\n",
       "    }\n",
       "\n",
       "    .dataframe tbody tr th {\n",
       "        vertical-align: top;\n",
       "    }\n",
       "\n",
       "    .dataframe thead th {\n",
       "        text-align: right;\n",
       "    }\n",
       "</style>\n",
       "<table border=\"1\" class=\"dataframe\">\n",
       "  <thead>\n",
       "    <tr style=\"text-align: right;\">\n",
       "      <th></th>\n",
       "      <th>Country</th>\n",
       "      <th>Year</th>\n",
       "      <th>Status</th>\n",
       "      <th>Life expectancy</th>\n",
       "      <th>Adult Mortality</th>\n",
       "      <th>infant deaths</th>\n",
       "      <th>Alcohol</th>\n",
       "      <th>percentage expenditure</th>\n",
       "      <th>Hepatitis B</th>\n",
       "      <th>Measles</th>\n",
       "      <th>...</th>\n",
       "      <th>Polio</th>\n",
       "      <th>Total expenditure</th>\n",
       "      <th>Diphtheria</th>\n",
       "      <th>HIV/AIDS</th>\n",
       "      <th>GDP</th>\n",
       "      <th>Population</th>\n",
       "      <th>thinness  1-19 years</th>\n",
       "      <th>thinness 5-9 years</th>\n",
       "      <th>Income composition of resources</th>\n",
       "      <th>Schooling</th>\n",
       "    </tr>\n",
       "  </thead>\n",
       "  <tbody>\n",
       "    <tr>\n",
       "      <th>0</th>\n",
       "      <td>Afghanistan</td>\n",
       "      <td>2015</td>\n",
       "      <td>Developing</td>\n",
       "      <td>65.0</td>\n",
       "      <td>263.0</td>\n",
       "      <td>62</td>\n",
       "      <td>0.01</td>\n",
       "      <td>71.279624</td>\n",
       "      <td>65.0</td>\n",
       "      <td>1154</td>\n",
       "      <td>...</td>\n",
       "      <td>6.0</td>\n",
       "      <td>8.16</td>\n",
       "      <td>65.0</td>\n",
       "      <td>0.1</td>\n",
       "      <td>584.259210</td>\n",
       "      <td>33736494.0</td>\n",
       "      <td>17.2</td>\n",
       "      <td>17.3</td>\n",
       "      <td>0.479</td>\n",
       "      <td>10.1</td>\n",
       "    </tr>\n",
       "    <tr>\n",
       "      <th>1</th>\n",
       "      <td>Afghanistan</td>\n",
       "      <td>2014</td>\n",
       "      <td>Developing</td>\n",
       "      <td>59.9</td>\n",
       "      <td>271.0</td>\n",
       "      <td>64</td>\n",
       "      <td>0.01</td>\n",
       "      <td>73.523582</td>\n",
       "      <td>62.0</td>\n",
       "      <td>492</td>\n",
       "      <td>...</td>\n",
       "      <td>58.0</td>\n",
       "      <td>8.18</td>\n",
       "      <td>62.0</td>\n",
       "      <td>0.1</td>\n",
       "      <td>612.696514</td>\n",
       "      <td>327582.0</td>\n",
       "      <td>17.5</td>\n",
       "      <td>17.5</td>\n",
       "      <td>0.476</td>\n",
       "      <td>10.0</td>\n",
       "    </tr>\n",
       "    <tr>\n",
       "      <th>2</th>\n",
       "      <td>Afghanistan</td>\n",
       "      <td>2013</td>\n",
       "      <td>Developing</td>\n",
       "      <td>59.9</td>\n",
       "      <td>268.0</td>\n",
       "      <td>66</td>\n",
       "      <td>0.01</td>\n",
       "      <td>73.219243</td>\n",
       "      <td>64.0</td>\n",
       "      <td>430</td>\n",
       "      <td>...</td>\n",
       "      <td>62.0</td>\n",
       "      <td>8.13</td>\n",
       "      <td>64.0</td>\n",
       "      <td>0.1</td>\n",
       "      <td>631.744976</td>\n",
       "      <td>31731688.0</td>\n",
       "      <td>17.7</td>\n",
       "      <td>17.7</td>\n",
       "      <td>0.470</td>\n",
       "      <td>9.9</td>\n",
       "    </tr>\n",
       "  </tbody>\n",
       "</table>\n",
       "<p>3 rows × 22 columns</p>\n",
       "</div>"
      ],
      "text/plain": [
       "       Country  Year      Status  Life expectancy   Adult Mortality  \\\n",
       "0  Afghanistan  2015  Developing              65.0            263.0   \n",
       "1  Afghanistan  2014  Developing              59.9            271.0   \n",
       "2  Afghanistan  2013  Developing              59.9            268.0   \n",
       "\n",
       "   infant deaths  Alcohol  percentage expenditure  Hepatitis B  Measles   ...  \\\n",
       "0             62     0.01               71.279624         65.0      1154  ...   \n",
       "1             64     0.01               73.523582         62.0       492  ...   \n",
       "2             66     0.01               73.219243         64.0       430  ...   \n",
       "\n",
       "   Polio  Total expenditure  Diphtheria    HIV/AIDS         GDP  Population  \\\n",
       "0    6.0               8.16         65.0        0.1  584.259210  33736494.0   \n",
       "1   58.0               8.18         62.0        0.1  612.696514    327582.0   \n",
       "2   62.0               8.13         64.0        0.1  631.744976  31731688.0   \n",
       "\n",
       "    thinness  1-19 years   thinness 5-9 years  \\\n",
       "0                   17.2                 17.3   \n",
       "1                   17.5                 17.5   \n",
       "2                   17.7                 17.7   \n",
       "\n",
       "   Income composition of resources  Schooling  \n",
       "0                            0.479       10.1  \n",
       "1                            0.476       10.0  \n",
       "2                            0.470        9.9  \n",
       "\n",
       "[3 rows x 22 columns]"
      ]
     },
     "execution_count": 2,
     "metadata": {},
     "output_type": "execute_result"
    }
   ],
   "source": [
    "df = pd.read_csv(\"Data/Life Expectancy Data.csv\")\n",
    "df.info()\n",
    "df.head(3)"
   ]
  },
  {
   "cell_type": "code",
   "execution_count": 3,
   "id": "e06edec8",
   "metadata": {
    "ExecuteTime": {
     "end_time": "2023-08-21T19:12:16.111729Z",
     "start_time": "2023-08-21T19:12:16.091811Z"
    }
   },
   "outputs": [],
   "source": [
    "def evaluate_regression(model, X_train,y_train, X_test, y_test,for_slides=True): \n",
    "    \"\"\"Evaluates a scikit learn regression model using r-squared and RMSE\n",
    "    FOR SLIDES VERS DOES MULTIPLE PRINT STATEMENTS FOR VERTICAL DISPLAY OF INFO\"\"\"\n",
    "    \n",
    "    ## Training Data\n",
    "    y_pred_train = model.predict(X_train)\n",
    "    r2_train = metrics.r2_score(y_train, y_pred_train)\n",
    "    rmse_train = metrics.mean_squared_error(y_train, y_pred_train, \n",
    "                                            squared=False)\n",
    "    mae_train = metrics.mean_absolute_error(y_train, y_pred_train)\n",
    "    \n",
    "\n",
    "    ## Test Data\n",
    "    y_pred_test = model.predict(X_test)\n",
    "    r2_test = metrics.r2_score(y_test, y_pred_test)\n",
    "    rmse_test = metrics.mean_squared_error(y_test, y_pred_test, \n",
    "                                            squared=False)\n",
    "    mae_test = metrics.mean_absolute_error(y_test, y_pred_test)\n",
    "    \n",
    "    if for_slides:\n",
    "        df_version =[['Split','R^2','MAE','RMSE']]\n",
    "        df_version.append(['Train',r2_train, mae_train, rmse_train])\n",
    "        df_version.append(['Test',r2_test, mae_test, rmse_test])\n",
    "        df_results = pd.DataFrame(df_version[1:], columns=df_version[0])\n",
    "        df_results = df_results.round(2)\n",
    "        display(df_results.style.hide(axis='index').format(precision=2, thousands=','))\n",
    "        \n",
    "    else: \n",
    "        print(f\"Training Data:\\tR^2 = {r2_train:,.2f}\\tRMSE = {rmse_train:,.2f}\\tMAE = {mae_train:,.2f}\")\n",
    "        print(f\"Test Data:\\tR^2 = {r2_test:,.2f}\\tRMSE = {rmse_test:,.2f}\\tMAE = {mae_test:,.2f}\")\n",
    "\n"
   ]
  },
  {
   "cell_type": "code",
   "execution_count": 4,
   "id": "ab78e1d4",
   "metadata": {
    "ExecuteTime": {
     "end_time": "2023-08-21T19:11:42.767254Z",
     "start_time": "2023-08-21T19:11:42.736458Z"
    }
   },
   "outputs": [
    {
     "data": {
      "text/html": [
       "<div>\n",
       "<style scoped>\n",
       "    .dataframe tbody tr th:only-of-type {\n",
       "        vertical-align: middle;\n",
       "    }\n",
       "\n",
       "    .dataframe tbody tr th {\n",
       "        vertical-align: top;\n",
       "    }\n",
       "\n",
       "    .dataframe thead th {\n",
       "        text-align: right;\n",
       "    }\n",
       "</style>\n",
       "<table border=\"1\" class=\"dataframe\">\n",
       "  <thead>\n",
       "    <tr style=\"text-align: right;\">\n",
       "      <th></th>\n",
       "      <th>Country</th>\n",
       "      <th>Year</th>\n",
       "      <th>Status</th>\n",
       "      <th>Life expectancy</th>\n",
       "      <th>Adult Mortality</th>\n",
       "      <th>infant deaths</th>\n",
       "      <th>Alcohol</th>\n",
       "      <th>percentage expenditure</th>\n",
       "      <th>Hepatitis B</th>\n",
       "      <th>Measles</th>\n",
       "      <th>...</th>\n",
       "      <th>Polio</th>\n",
       "      <th>Total expenditure</th>\n",
       "      <th>Diphtheria</th>\n",
       "      <th>HIV/AIDS</th>\n",
       "      <th>GDP</th>\n",
       "      <th>Population</th>\n",
       "      <th>thinness  1-19 years</th>\n",
       "      <th>thinness 5-9 years</th>\n",
       "      <th>Income composition of resources</th>\n",
       "      <th>Schooling</th>\n",
       "    </tr>\n",
       "  </thead>\n",
       "  <tbody>\n",
       "    <tr>\n",
       "      <th>0</th>\n",
       "      <td>Afghanistan</td>\n",
       "      <td>2015</td>\n",
       "      <td>Developing</td>\n",
       "      <td>65.0</td>\n",
       "      <td>263.0</td>\n",
       "      <td>62</td>\n",
       "      <td>0.01</td>\n",
       "      <td>71.279624</td>\n",
       "      <td>65.0</td>\n",
       "      <td>1154</td>\n",
       "      <td>...</td>\n",
       "      <td>6.0</td>\n",
       "      <td>8.16</td>\n",
       "      <td>65.0</td>\n",
       "      <td>0.1</td>\n",
       "      <td>584.259210</td>\n",
       "      <td>33736494.0</td>\n",
       "      <td>17.2</td>\n",
       "      <td>17.3</td>\n",
       "      <td>0.479</td>\n",
       "      <td>10.1</td>\n",
       "    </tr>\n",
       "    <tr>\n",
       "      <th>1</th>\n",
       "      <td>Afghanistan</td>\n",
       "      <td>2014</td>\n",
       "      <td>Developing</td>\n",
       "      <td>59.9</td>\n",
       "      <td>271.0</td>\n",
       "      <td>64</td>\n",
       "      <td>0.01</td>\n",
       "      <td>73.523582</td>\n",
       "      <td>62.0</td>\n",
       "      <td>492</td>\n",
       "      <td>...</td>\n",
       "      <td>58.0</td>\n",
       "      <td>8.18</td>\n",
       "      <td>62.0</td>\n",
       "      <td>0.1</td>\n",
       "      <td>612.696514</td>\n",
       "      <td>327582.0</td>\n",
       "      <td>17.5</td>\n",
       "      <td>17.5</td>\n",
       "      <td>0.476</td>\n",
       "      <td>10.0</td>\n",
       "    </tr>\n",
       "    <tr>\n",
       "      <th>2</th>\n",
       "      <td>Afghanistan</td>\n",
       "      <td>2013</td>\n",
       "      <td>Developing</td>\n",
       "      <td>59.9</td>\n",
       "      <td>268.0</td>\n",
       "      <td>66</td>\n",
       "      <td>0.01</td>\n",
       "      <td>73.219243</td>\n",
       "      <td>64.0</td>\n",
       "      <td>430</td>\n",
       "      <td>...</td>\n",
       "      <td>62.0</td>\n",
       "      <td>8.13</td>\n",
       "      <td>64.0</td>\n",
       "      <td>0.1</td>\n",
       "      <td>631.744976</td>\n",
       "      <td>31731688.0</td>\n",
       "      <td>17.7</td>\n",
       "      <td>17.7</td>\n",
       "      <td>0.470</td>\n",
       "      <td>9.9</td>\n",
       "    </tr>\n",
       "    <tr>\n",
       "      <th>3</th>\n",
       "      <td>Afghanistan</td>\n",
       "      <td>2012</td>\n",
       "      <td>Developing</td>\n",
       "      <td>59.5</td>\n",
       "      <td>272.0</td>\n",
       "      <td>69</td>\n",
       "      <td>0.01</td>\n",
       "      <td>78.184215</td>\n",
       "      <td>67.0</td>\n",
       "      <td>2787</td>\n",
       "      <td>...</td>\n",
       "      <td>67.0</td>\n",
       "      <td>8.52</td>\n",
       "      <td>67.0</td>\n",
       "      <td>0.1</td>\n",
       "      <td>669.959000</td>\n",
       "      <td>3696958.0</td>\n",
       "      <td>17.9</td>\n",
       "      <td>18.0</td>\n",
       "      <td>0.463</td>\n",
       "      <td>9.8</td>\n",
       "    </tr>\n",
       "    <tr>\n",
       "      <th>4</th>\n",
       "      <td>Afghanistan</td>\n",
       "      <td>2011</td>\n",
       "      <td>Developing</td>\n",
       "      <td>59.2</td>\n",
       "      <td>275.0</td>\n",
       "      <td>71</td>\n",
       "      <td>0.01</td>\n",
       "      <td>7.097109</td>\n",
       "      <td>68.0</td>\n",
       "      <td>3013</td>\n",
       "      <td>...</td>\n",
       "      <td>68.0</td>\n",
       "      <td>7.87</td>\n",
       "      <td>68.0</td>\n",
       "      <td>0.1</td>\n",
       "      <td>63.537231</td>\n",
       "      <td>2978599.0</td>\n",
       "      <td>18.2</td>\n",
       "      <td>18.2</td>\n",
       "      <td>0.454</td>\n",
       "      <td>9.5</td>\n",
       "    </tr>\n",
       "    <tr>\n",
       "      <th>...</th>\n",
       "      <td>...</td>\n",
       "      <td>...</td>\n",
       "      <td>...</td>\n",
       "      <td>...</td>\n",
       "      <td>...</td>\n",
       "      <td>...</td>\n",
       "      <td>...</td>\n",
       "      <td>...</td>\n",
       "      <td>...</td>\n",
       "      <td>...</td>\n",
       "      <td>...</td>\n",
       "      <td>...</td>\n",
       "      <td>...</td>\n",
       "      <td>...</td>\n",
       "      <td>...</td>\n",
       "      <td>...</td>\n",
       "      <td>...</td>\n",
       "      <td>...</td>\n",
       "      <td>...</td>\n",
       "      <td>...</td>\n",
       "      <td>...</td>\n",
       "    </tr>\n",
       "    <tr>\n",
       "      <th>2933</th>\n",
       "      <td>Zimbabwe</td>\n",
       "      <td>2004</td>\n",
       "      <td>Developing</td>\n",
       "      <td>44.3</td>\n",
       "      <td>723.0</td>\n",
       "      <td>27</td>\n",
       "      <td>4.36</td>\n",
       "      <td>0.000000</td>\n",
       "      <td>68.0</td>\n",
       "      <td>31</td>\n",
       "      <td>...</td>\n",
       "      <td>67.0</td>\n",
       "      <td>7.13</td>\n",
       "      <td>65.0</td>\n",
       "      <td>33.6</td>\n",
       "      <td>454.366654</td>\n",
       "      <td>12777511.0</td>\n",
       "      <td>9.4</td>\n",
       "      <td>9.4</td>\n",
       "      <td>0.407</td>\n",
       "      <td>9.2</td>\n",
       "    </tr>\n",
       "    <tr>\n",
       "      <th>2934</th>\n",
       "      <td>Zimbabwe</td>\n",
       "      <td>2003</td>\n",
       "      <td>Developing</td>\n",
       "      <td>44.5</td>\n",
       "      <td>715.0</td>\n",
       "      <td>26</td>\n",
       "      <td>4.06</td>\n",
       "      <td>0.000000</td>\n",
       "      <td>7.0</td>\n",
       "      <td>998</td>\n",
       "      <td>...</td>\n",
       "      <td>7.0</td>\n",
       "      <td>6.52</td>\n",
       "      <td>68.0</td>\n",
       "      <td>36.7</td>\n",
       "      <td>453.351155</td>\n",
       "      <td>12633897.0</td>\n",
       "      <td>9.8</td>\n",
       "      <td>9.9</td>\n",
       "      <td>0.418</td>\n",
       "      <td>9.5</td>\n",
       "    </tr>\n",
       "    <tr>\n",
       "      <th>2935</th>\n",
       "      <td>Zimbabwe</td>\n",
       "      <td>2002</td>\n",
       "      <td>Developing</td>\n",
       "      <td>44.8</td>\n",
       "      <td>73.0</td>\n",
       "      <td>25</td>\n",
       "      <td>4.43</td>\n",
       "      <td>0.000000</td>\n",
       "      <td>73.0</td>\n",
       "      <td>304</td>\n",
       "      <td>...</td>\n",
       "      <td>73.0</td>\n",
       "      <td>6.53</td>\n",
       "      <td>71.0</td>\n",
       "      <td>39.8</td>\n",
       "      <td>57.348340</td>\n",
       "      <td>125525.0</td>\n",
       "      <td>1.2</td>\n",
       "      <td>1.3</td>\n",
       "      <td>0.427</td>\n",
       "      <td>10.0</td>\n",
       "    </tr>\n",
       "    <tr>\n",
       "      <th>2936</th>\n",
       "      <td>Zimbabwe</td>\n",
       "      <td>2001</td>\n",
       "      <td>Developing</td>\n",
       "      <td>45.3</td>\n",
       "      <td>686.0</td>\n",
       "      <td>25</td>\n",
       "      <td>1.72</td>\n",
       "      <td>0.000000</td>\n",
       "      <td>76.0</td>\n",
       "      <td>529</td>\n",
       "      <td>...</td>\n",
       "      <td>76.0</td>\n",
       "      <td>6.16</td>\n",
       "      <td>75.0</td>\n",
       "      <td>42.1</td>\n",
       "      <td>548.587312</td>\n",
       "      <td>12366165.0</td>\n",
       "      <td>1.6</td>\n",
       "      <td>1.7</td>\n",
       "      <td>0.427</td>\n",
       "      <td>9.8</td>\n",
       "    </tr>\n",
       "    <tr>\n",
       "      <th>2937</th>\n",
       "      <td>Zimbabwe</td>\n",
       "      <td>2000</td>\n",
       "      <td>Developing</td>\n",
       "      <td>46.0</td>\n",
       "      <td>665.0</td>\n",
       "      <td>24</td>\n",
       "      <td>1.68</td>\n",
       "      <td>0.000000</td>\n",
       "      <td>79.0</td>\n",
       "      <td>1483</td>\n",
       "      <td>...</td>\n",
       "      <td>78.0</td>\n",
       "      <td>7.10</td>\n",
       "      <td>78.0</td>\n",
       "      <td>43.5</td>\n",
       "      <td>547.358878</td>\n",
       "      <td>12222251.0</td>\n",
       "      <td>11.0</td>\n",
       "      <td>11.2</td>\n",
       "      <td>0.434</td>\n",
       "      <td>9.8</td>\n",
       "    </tr>\n",
       "  </tbody>\n",
       "</table>\n",
       "<p>2938 rows × 22 columns</p>\n",
       "</div>"
      ],
      "text/plain": [
       "          Country  Year      Status  Life expectancy  Adult Mortality  \\\n",
       "0     Afghanistan  2015  Developing             65.0            263.0   \n",
       "1     Afghanistan  2014  Developing             59.9            271.0   \n",
       "2     Afghanistan  2013  Developing             59.9            268.0   \n",
       "3     Afghanistan  2012  Developing             59.5            272.0   \n",
       "4     Afghanistan  2011  Developing             59.2            275.0   \n",
       "...           ...   ...         ...              ...              ...   \n",
       "2933     Zimbabwe  2004  Developing             44.3            723.0   \n",
       "2934     Zimbabwe  2003  Developing             44.5            715.0   \n",
       "2935     Zimbabwe  2002  Developing             44.8             73.0   \n",
       "2936     Zimbabwe  2001  Developing             45.3            686.0   \n",
       "2937     Zimbabwe  2000  Developing             46.0            665.0   \n",
       "\n",
       "      infant deaths  Alcohol  percentage expenditure  Hepatitis B  Measles  \\\n",
       "0                62     0.01               71.279624         65.0     1154   \n",
       "1                64     0.01               73.523582         62.0      492   \n",
       "2                66     0.01               73.219243         64.0      430   \n",
       "3                69     0.01               78.184215         67.0     2787   \n",
       "4                71     0.01                7.097109         68.0     3013   \n",
       "...             ...      ...                     ...          ...      ...   \n",
       "2933             27     4.36                0.000000         68.0       31   \n",
       "2934             26     4.06                0.000000          7.0      998   \n",
       "2935             25     4.43                0.000000         73.0      304   \n",
       "2936             25     1.72                0.000000         76.0      529   \n",
       "2937             24     1.68                0.000000         79.0     1483   \n",
       "\n",
       "      ...  Polio  Total expenditure  Diphtheria  HIV/AIDS         GDP  \\\n",
       "0     ...    6.0               8.16        65.0       0.1  584.259210   \n",
       "1     ...   58.0               8.18        62.0       0.1  612.696514   \n",
       "2     ...   62.0               8.13        64.0       0.1  631.744976   \n",
       "3     ...   67.0               8.52        67.0       0.1  669.959000   \n",
       "4     ...   68.0               7.87        68.0       0.1   63.537231   \n",
       "...   ...    ...                ...         ...       ...         ...   \n",
       "2933  ...   67.0               7.13        65.0      33.6  454.366654   \n",
       "2934  ...    7.0               6.52        68.0      36.7  453.351155   \n",
       "2935  ...   73.0               6.53        71.0      39.8   57.348340   \n",
       "2936  ...   76.0               6.16        75.0      42.1  548.587312   \n",
       "2937  ...   78.0               7.10        78.0      43.5  547.358878   \n",
       "\n",
       "      Population  thinness  1-19 years  thinness 5-9 years  \\\n",
       "0     33736494.0                  17.2                17.3   \n",
       "1       327582.0                  17.5                17.5   \n",
       "2     31731688.0                  17.7                17.7   \n",
       "3      3696958.0                  17.9                18.0   \n",
       "4      2978599.0                  18.2                18.2   \n",
       "...          ...                   ...                 ...   \n",
       "2933  12777511.0                   9.4                 9.4   \n",
       "2934  12633897.0                   9.8                 9.9   \n",
       "2935    125525.0                   1.2                 1.3   \n",
       "2936  12366165.0                   1.6                 1.7   \n",
       "2937  12222251.0                  11.0                11.2   \n",
       "\n",
       "      Income composition of resources  Schooling  \n",
       "0                               0.479       10.1  \n",
       "1                               0.476       10.0  \n",
       "2                               0.470        9.9  \n",
       "3                               0.463        9.8  \n",
       "4                               0.454        9.5  \n",
       "...                               ...        ...  \n",
       "2933                            0.407        9.2  \n",
       "2934                            0.418        9.5  \n",
       "2935                            0.427       10.0  \n",
       "2936                            0.427        9.8  \n",
       "2937                            0.434        9.8  \n",
       "\n",
       "[2938 rows x 22 columns]"
      ]
     },
     "execution_count": 4,
     "metadata": {},
     "output_type": "execute_result"
    }
   ],
   "source": [
    "# clean extra spaces\n",
    "df.columns = df.columns.str.strip()\n",
    "df"
   ]
  },
  {
   "cell_type": "code",
   "execution_count": 5,
   "id": "91551518",
   "metadata": {
    "ExecuteTime": {
     "end_time": "2023-08-21T19:11:42.814651Z",
     "start_time": "2023-08-21T19:11:42.769247Z"
    }
   },
   "outputs": [
    {
     "data": {
      "text/html": [
       "<div>\n",
       "<style scoped>\n",
       "    .dataframe tbody tr th:only-of-type {\n",
       "        vertical-align: middle;\n",
       "    }\n",
       "\n",
       "    .dataframe tbody tr th {\n",
       "        vertical-align: top;\n",
       "    }\n",
       "\n",
       "    .dataframe thead th {\n",
       "        text-align: right;\n",
       "    }\n",
       "</style>\n",
       "<table border=\"1\" class=\"dataframe\">\n",
       "  <thead>\n",
       "    <tr style=\"text-align: right;\">\n",
       "      <th></th>\n",
       "      <th>Country</th>\n",
       "      <th>Year</th>\n",
       "      <th>Status</th>\n",
       "      <th>Life expectancy</th>\n",
       "      <th>Adult Mortality</th>\n",
       "      <th>infant deaths</th>\n",
       "      <th>Alcohol</th>\n",
       "      <th>percentage expenditure</th>\n",
       "      <th>Hepatitis B</th>\n",
       "      <th>Measles</th>\n",
       "      <th>BMI</th>\n",
       "      <th>under-five deaths</th>\n",
       "      <th>Polio</th>\n",
       "      <th>Total expenditure</th>\n",
       "      <th>Diphtheria</th>\n",
       "      <th>HIV/AIDS</th>\n",
       "      <th>GDP</th>\n",
       "      <th>Population</th>\n",
       "      <th>thinness  1-19 years</th>\n",
       "      <th>thinness 5-9 years</th>\n",
       "      <th>Income composition of resources</th>\n",
       "      <th>Schooling</th>\n",
       "    </tr>\n",
       "  </thead>\n",
       "  <tbody>\n",
       "    <tr>\n",
       "      <th>0</th>\n",
       "      <td>Afghanistan</td>\n",
       "      <td>2015</td>\n",
       "      <td>Developing</td>\n",
       "      <td>65.0</td>\n",
       "      <td>263.0</td>\n",
       "      <td>62</td>\n",
       "      <td>0.01</td>\n",
       "      <td>71.279624</td>\n",
       "      <td>65.0</td>\n",
       "      <td>1154</td>\n",
       "      <td>19.1</td>\n",
       "      <td>83</td>\n",
       "      <td>6.0</td>\n",
       "      <td>8.16</td>\n",
       "      <td>65.0</td>\n",
       "      <td>0.1</td>\n",
       "      <td>584.259210</td>\n",
       "      <td>33736494.0</td>\n",
       "      <td>17.2</td>\n",
       "      <td>17.3</td>\n",
       "      <td>0.479</td>\n",
       "      <td>10.1</td>\n",
       "    </tr>\n",
       "    <tr>\n",
       "      <th>1</th>\n",
       "      <td>Afghanistan</td>\n",
       "      <td>2014</td>\n",
       "      <td>Developing</td>\n",
       "      <td>59.9</td>\n",
       "      <td>271.0</td>\n",
       "      <td>64</td>\n",
       "      <td>0.01</td>\n",
       "      <td>73.523582</td>\n",
       "      <td>62.0</td>\n",
       "      <td>492</td>\n",
       "      <td>18.6</td>\n",
       "      <td>86</td>\n",
       "      <td>58.0</td>\n",
       "      <td>8.18</td>\n",
       "      <td>62.0</td>\n",
       "      <td>0.1</td>\n",
       "      <td>612.696514</td>\n",
       "      <td>327582.0</td>\n",
       "      <td>17.5</td>\n",
       "      <td>17.5</td>\n",
       "      <td>0.476</td>\n",
       "      <td>10.0</td>\n",
       "    </tr>\n",
       "    <tr>\n",
       "      <th>2</th>\n",
       "      <td>Afghanistan</td>\n",
       "      <td>2013</td>\n",
       "      <td>Developing</td>\n",
       "      <td>59.9</td>\n",
       "      <td>268.0</td>\n",
       "      <td>66</td>\n",
       "      <td>0.01</td>\n",
       "      <td>73.219243</td>\n",
       "      <td>64.0</td>\n",
       "      <td>430</td>\n",
       "      <td>18.1</td>\n",
       "      <td>89</td>\n",
       "      <td>62.0</td>\n",
       "      <td>8.13</td>\n",
       "      <td>64.0</td>\n",
       "      <td>0.1</td>\n",
       "      <td>631.744976</td>\n",
       "      <td>31731688.0</td>\n",
       "      <td>17.7</td>\n",
       "      <td>17.7</td>\n",
       "      <td>0.470</td>\n",
       "      <td>9.9</td>\n",
       "    </tr>\n",
       "    <tr>\n",
       "      <th>3</th>\n",
       "      <td>Afghanistan</td>\n",
       "      <td>2012</td>\n",
       "      <td>Developing</td>\n",
       "      <td>59.5</td>\n",
       "      <td>272.0</td>\n",
       "      <td>69</td>\n",
       "      <td>0.01</td>\n",
       "      <td>78.184215</td>\n",
       "      <td>67.0</td>\n",
       "      <td>2787</td>\n",
       "      <td>17.6</td>\n",
       "      <td>93</td>\n",
       "      <td>67.0</td>\n",
       "      <td>8.52</td>\n",
       "      <td>67.0</td>\n",
       "      <td>0.1</td>\n",
       "      <td>669.959000</td>\n",
       "      <td>3696958.0</td>\n",
       "      <td>17.9</td>\n",
       "      <td>18.0</td>\n",
       "      <td>0.463</td>\n",
       "      <td>9.8</td>\n",
       "    </tr>\n",
       "    <tr>\n",
       "      <th>4</th>\n",
       "      <td>Afghanistan</td>\n",
       "      <td>2011</td>\n",
       "      <td>Developing</td>\n",
       "      <td>59.2</td>\n",
       "      <td>275.0</td>\n",
       "      <td>71</td>\n",
       "      <td>0.01</td>\n",
       "      <td>7.097109</td>\n",
       "      <td>68.0</td>\n",
       "      <td>3013</td>\n",
       "      <td>17.2</td>\n",
       "      <td>97</td>\n",
       "      <td>68.0</td>\n",
       "      <td>7.87</td>\n",
       "      <td>68.0</td>\n",
       "      <td>0.1</td>\n",
       "      <td>63.537231</td>\n",
       "      <td>2978599.0</td>\n",
       "      <td>18.2</td>\n",
       "      <td>18.2</td>\n",
       "      <td>0.454</td>\n",
       "      <td>9.5</td>\n",
       "    </tr>\n",
       "    <tr>\n",
       "      <th>...</th>\n",
       "      <td>...</td>\n",
       "      <td>...</td>\n",
       "      <td>...</td>\n",
       "      <td>...</td>\n",
       "      <td>...</td>\n",
       "      <td>...</td>\n",
       "      <td>...</td>\n",
       "      <td>...</td>\n",
       "      <td>...</td>\n",
       "      <td>...</td>\n",
       "      <td>...</td>\n",
       "      <td>...</td>\n",
       "      <td>...</td>\n",
       "      <td>...</td>\n",
       "      <td>...</td>\n",
       "      <td>...</td>\n",
       "      <td>...</td>\n",
       "      <td>...</td>\n",
       "      <td>...</td>\n",
       "      <td>...</td>\n",
       "      <td>...</td>\n",
       "      <td>...</td>\n",
       "    </tr>\n",
       "    <tr>\n",
       "      <th>2933</th>\n",
       "      <td>Zimbabwe</td>\n",
       "      <td>2004</td>\n",
       "      <td>Developing</td>\n",
       "      <td>44.3</td>\n",
       "      <td>723.0</td>\n",
       "      <td>27</td>\n",
       "      <td>4.36</td>\n",
       "      <td>0.000000</td>\n",
       "      <td>68.0</td>\n",
       "      <td>31</td>\n",
       "      <td>27.1</td>\n",
       "      <td>42</td>\n",
       "      <td>67.0</td>\n",
       "      <td>7.13</td>\n",
       "      <td>65.0</td>\n",
       "      <td>33.6</td>\n",
       "      <td>454.366654</td>\n",
       "      <td>12777511.0</td>\n",
       "      <td>9.4</td>\n",
       "      <td>9.4</td>\n",
       "      <td>0.407</td>\n",
       "      <td>9.2</td>\n",
       "    </tr>\n",
       "    <tr>\n",
       "      <th>2934</th>\n",
       "      <td>Zimbabwe</td>\n",
       "      <td>2003</td>\n",
       "      <td>Developing</td>\n",
       "      <td>44.5</td>\n",
       "      <td>715.0</td>\n",
       "      <td>26</td>\n",
       "      <td>4.06</td>\n",
       "      <td>0.000000</td>\n",
       "      <td>7.0</td>\n",
       "      <td>998</td>\n",
       "      <td>26.7</td>\n",
       "      <td>41</td>\n",
       "      <td>7.0</td>\n",
       "      <td>6.52</td>\n",
       "      <td>68.0</td>\n",
       "      <td>36.7</td>\n",
       "      <td>453.351155</td>\n",
       "      <td>12633897.0</td>\n",
       "      <td>9.8</td>\n",
       "      <td>9.9</td>\n",
       "      <td>0.418</td>\n",
       "      <td>9.5</td>\n",
       "    </tr>\n",
       "    <tr>\n",
       "      <th>2935</th>\n",
       "      <td>Zimbabwe</td>\n",
       "      <td>2002</td>\n",
       "      <td>Developing</td>\n",
       "      <td>44.8</td>\n",
       "      <td>73.0</td>\n",
       "      <td>25</td>\n",
       "      <td>4.43</td>\n",
       "      <td>0.000000</td>\n",
       "      <td>73.0</td>\n",
       "      <td>304</td>\n",
       "      <td>26.3</td>\n",
       "      <td>40</td>\n",
       "      <td>73.0</td>\n",
       "      <td>6.53</td>\n",
       "      <td>71.0</td>\n",
       "      <td>39.8</td>\n",
       "      <td>57.348340</td>\n",
       "      <td>125525.0</td>\n",
       "      <td>1.2</td>\n",
       "      <td>1.3</td>\n",
       "      <td>0.427</td>\n",
       "      <td>10.0</td>\n",
       "    </tr>\n",
       "    <tr>\n",
       "      <th>2936</th>\n",
       "      <td>Zimbabwe</td>\n",
       "      <td>2001</td>\n",
       "      <td>Developing</td>\n",
       "      <td>45.3</td>\n",
       "      <td>686.0</td>\n",
       "      <td>25</td>\n",
       "      <td>1.72</td>\n",
       "      <td>0.000000</td>\n",
       "      <td>76.0</td>\n",
       "      <td>529</td>\n",
       "      <td>25.9</td>\n",
       "      <td>39</td>\n",
       "      <td>76.0</td>\n",
       "      <td>6.16</td>\n",
       "      <td>75.0</td>\n",
       "      <td>42.1</td>\n",
       "      <td>548.587312</td>\n",
       "      <td>12366165.0</td>\n",
       "      <td>1.6</td>\n",
       "      <td>1.7</td>\n",
       "      <td>0.427</td>\n",
       "      <td>9.8</td>\n",
       "    </tr>\n",
       "    <tr>\n",
       "      <th>2937</th>\n",
       "      <td>Zimbabwe</td>\n",
       "      <td>2000</td>\n",
       "      <td>Developing</td>\n",
       "      <td>46.0</td>\n",
       "      <td>665.0</td>\n",
       "      <td>24</td>\n",
       "      <td>1.68</td>\n",
       "      <td>0.000000</td>\n",
       "      <td>79.0</td>\n",
       "      <td>1483</td>\n",
       "      <td>25.5</td>\n",
       "      <td>39</td>\n",
       "      <td>78.0</td>\n",
       "      <td>7.10</td>\n",
       "      <td>78.0</td>\n",
       "      <td>43.5</td>\n",
       "      <td>547.358878</td>\n",
       "      <td>12222251.0</td>\n",
       "      <td>11.0</td>\n",
       "      <td>11.2</td>\n",
       "      <td>0.434</td>\n",
       "      <td>9.8</td>\n",
       "    </tr>\n",
       "  </tbody>\n",
       "</table>\n",
       "<p>2938 rows × 22 columns</p>\n",
       "</div>"
      ],
      "text/plain": [
       "          Country  Year      Status  ...  thinness 5-9 years  Income composition of resources  Schooling\n",
       "0     Afghanistan  2015  Developing  ...                17.3                            0.479       10.1\n",
       "1     Afghanistan  2014  Developing  ...                17.5                            0.476       10.0\n",
       "2     Afghanistan  2013  Developing  ...                17.7                            0.470        9.9\n",
       "3     Afghanistan  2012  Developing  ...                18.0                            0.463        9.8\n",
       "4     Afghanistan  2011  Developing  ...                18.2                            0.454        9.5\n",
       "...           ...   ...         ...  ...                 ...                              ...        ...\n",
       "2933     Zimbabwe  2004  Developing  ...                 9.4                            0.407        9.2\n",
       "2934     Zimbabwe  2003  Developing  ...                 9.9                            0.418        9.5\n",
       "2935     Zimbabwe  2002  Developing  ...                 1.3                            0.427       10.0\n",
       "2936     Zimbabwe  2001  Developing  ...                 1.7                            0.427        9.8\n",
       "2937     Zimbabwe  2000  Developing  ...                11.2                            0.434        9.8\n",
       "\n",
       "[2938 rows x 22 columns]"
      ]
     },
     "execution_count": 5,
     "metadata": {},
     "output_type": "execute_result"
    }
   ],
   "source": [
    "pd.set_option('display.max_columns',0)\n",
    "df"
   ]
  },
  {
   "cell_type": "markdown",
   "id": "285bb58e",
   "metadata": {},
   "source": [
    "## EDA"
   ]
  },
  {
   "cell_type": "code",
   "execution_count": 6,
   "id": "9971df12",
   "metadata": {
    "ExecuteTime": {
     "end_time": "2023-08-21T19:11:42.829907Z",
     "start_time": "2023-08-21T19:11:42.815649Z"
    }
   },
   "outputs": [
    {
     "data": {
      "text/plain": [
       "Country                              0\n",
       "Year                                 0\n",
       "Status                               0\n",
       "Life expectancy                     10\n",
       "Adult Mortality                     10\n",
       "infant deaths                        0\n",
       "Alcohol                            194\n",
       "percentage expenditure               0\n",
       "Hepatitis B                        553\n",
       "Measles                              0\n",
       "BMI                                 34\n",
       "under-five deaths                    0\n",
       "Polio                               19\n",
       "Total expenditure                  226\n",
       "Diphtheria                          19\n",
       "HIV/AIDS                             0\n",
       "GDP                                448\n",
       "Population                         652\n",
       "thinness  1-19 years                34\n",
       "thinness 5-9 years                  34\n",
       "Income composition of resources    167\n",
       "Schooling                          163\n",
       "dtype: int64"
      ]
     },
     "execution_count": 6,
     "metadata": {},
     "output_type": "execute_result"
    }
   ],
   "source": [
    "df.isna().sum()"
   ]
  },
  {
   "cell_type": "markdown",
   "id": "c213c8ea",
   "metadata": {},
   "source": [
    "> Can't have null values for the target!"
   ]
  },
  {
   "cell_type": "code",
   "execution_count": 8,
   "id": "66143982",
   "metadata": {
    "ExecuteTime": {
     "end_time": "2023-08-21T19:11:42.843263Z",
     "start_time": "2023-08-21T19:11:42.830904Z"
    }
   },
   "outputs": [],
   "source": [
    "# drop null values ONLY FROM TARGET\n",
    "df = df.dropna(subset=['Life expectancy'])"
   ]
  },
  {
   "cell_type": "code",
   "execution_count": 9,
   "id": "e8118b61",
   "metadata": {
    "ExecuteTime": {
     "end_time": "2023-08-21T19:11:42.904997Z",
     "start_time": "2023-08-21T19:11:42.843263Z"
    }
   },
   "outputs": [
    {
     "data": {
      "text/html": [
       "<div>\n",
       "<style scoped>\n",
       "    .dataframe tbody tr th:only-of-type {\n",
       "        vertical-align: middle;\n",
       "    }\n",
       "\n",
       "    .dataframe tbody tr th {\n",
       "        vertical-align: top;\n",
       "    }\n",
       "\n",
       "    .dataframe thead th {\n",
       "        text-align: right;\n",
       "    }\n",
       "</style>\n",
       "<table border=\"1\" class=\"dataframe\">\n",
       "  <thead>\n",
       "    <tr style=\"text-align: right;\">\n",
       "      <th></th>\n",
       "      <th>Year</th>\n",
       "      <th>Life expectancy</th>\n",
       "      <th>Adult Mortality</th>\n",
       "      <th>infant deaths</th>\n",
       "      <th>Alcohol</th>\n",
       "      <th>percentage expenditure</th>\n",
       "      <th>Hepatitis B</th>\n",
       "      <th>Measles</th>\n",
       "      <th>BMI</th>\n",
       "      <th>under-five deaths</th>\n",
       "      <th>Polio</th>\n",
       "      <th>Total expenditure</th>\n",
       "      <th>Diphtheria</th>\n",
       "      <th>HIV/AIDS</th>\n",
       "      <th>GDP</th>\n",
       "      <th>Population</th>\n",
       "      <th>thinness  1-19 years</th>\n",
       "      <th>thinness 5-9 years</th>\n",
       "      <th>Income composition of resources</th>\n",
       "      <th>Schooling</th>\n",
       "    </tr>\n",
       "  </thead>\n",
       "  <tbody>\n",
       "    <tr>\n",
       "      <th>count</th>\n",
       "      <td>2928.00000</td>\n",
       "      <td>2928.000000</td>\n",
       "      <td>2928.000000</td>\n",
       "      <td>2928.000000</td>\n",
       "      <td>2735.000000</td>\n",
       "      <td>2928.000000</td>\n",
       "      <td>2375.000000</td>\n",
       "      <td>2928.000000</td>\n",
       "      <td>2896.000000</td>\n",
       "      <td>2928.000000</td>\n",
       "      <td>2909.000000</td>\n",
       "      <td>2702.000000</td>\n",
       "      <td>2909.000000</td>\n",
       "      <td>2928.000000</td>\n",
       "      <td>2485.000000</td>\n",
       "      <td>2.284000e+03</td>\n",
       "      <td>2896.000000</td>\n",
       "      <td>2896.000000</td>\n",
       "      <td>2768.000000</td>\n",
       "      <td>2768.000000</td>\n",
       "    </tr>\n",
       "    <tr>\n",
       "      <th>mean</th>\n",
       "      <td>2007.50000</td>\n",
       "      <td>69.224932</td>\n",
       "      <td>164.796448</td>\n",
       "      <td>30.407445</td>\n",
       "      <td>4.614856</td>\n",
       "      <td>740.321185</td>\n",
       "      <td>80.960842</td>\n",
       "      <td>2427.855874</td>\n",
       "      <td>38.235394</td>\n",
       "      <td>42.179303</td>\n",
       "      <td>82.548298</td>\n",
       "      <td>5.930163</td>\n",
       "      <td>82.321416</td>\n",
       "      <td>1.747712</td>\n",
       "      <td>7494.210719</td>\n",
       "      <td>1.276454e+07</td>\n",
       "      <td>4.850622</td>\n",
       "      <td>4.881423</td>\n",
       "      <td>0.627419</td>\n",
       "      <td>11.999639</td>\n",
       "    </tr>\n",
       "    <tr>\n",
       "      <th>std</th>\n",
       "      <td>4.61056</td>\n",
       "      <td>9.523867</td>\n",
       "      <td>124.292079</td>\n",
       "      <td>118.114450</td>\n",
       "      <td>4.050749</td>\n",
       "      <td>1990.930605</td>\n",
       "      <td>25.018337</td>\n",
       "      <td>11485.970937</td>\n",
       "      <td>19.959590</td>\n",
       "      <td>160.700547</td>\n",
       "      <td>23.416674</td>\n",
       "      <td>2.483273</td>\n",
       "      <td>23.706644</td>\n",
       "      <td>5.085542</td>\n",
       "      <td>14282.251492</td>\n",
       "      <td>6.103765e+07</td>\n",
       "      <td>4.420829</td>\n",
       "      <td>4.509609</td>\n",
       "      <td>0.210978</td>\n",
       "      <td>3.346440</td>\n",
       "    </tr>\n",
       "    <tr>\n",
       "      <th>min</th>\n",
       "      <td>2000.00000</td>\n",
       "      <td>36.300000</td>\n",
       "      <td>1.000000</td>\n",
       "      <td>0.000000</td>\n",
       "      <td>0.010000</td>\n",
       "      <td>0.000000</td>\n",
       "      <td>1.000000</td>\n",
       "      <td>0.000000</td>\n",
       "      <td>1.000000</td>\n",
       "      <td>0.000000</td>\n",
       "      <td>3.000000</td>\n",
       "      <td>0.370000</td>\n",
       "      <td>2.000000</td>\n",
       "      <td>0.100000</td>\n",
       "      <td>1.681350</td>\n",
       "      <td>3.400000e+01</td>\n",
       "      <td>0.100000</td>\n",
       "      <td>0.100000</td>\n",
       "      <td>0.000000</td>\n",
       "      <td>0.000000</td>\n",
       "    </tr>\n",
       "    <tr>\n",
       "      <th>25%</th>\n",
       "      <td>2003.75000</td>\n",
       "      <td>63.100000</td>\n",
       "      <td>74.000000</td>\n",
       "      <td>0.000000</td>\n",
       "      <td>0.905000</td>\n",
       "      <td>4.853964</td>\n",
       "      <td>77.000000</td>\n",
       "      <td>0.000000</td>\n",
       "      <td>19.300000</td>\n",
       "      <td>0.000000</td>\n",
       "      <td>78.000000</td>\n",
       "      <td>4.260000</td>\n",
       "      <td>78.000000</td>\n",
       "      <td>0.100000</td>\n",
       "      <td>463.852618</td>\n",
       "      <td>1.966738e+05</td>\n",
       "      <td>1.600000</td>\n",
       "      <td>1.575000</td>\n",
       "      <td>0.493000</td>\n",
       "      <td>10.100000</td>\n",
       "    </tr>\n",
       "    <tr>\n",
       "      <th>50%</th>\n",
       "      <td>2007.50000</td>\n",
       "      <td>72.100000</td>\n",
       "      <td>144.000000</td>\n",
       "      <td>3.000000</td>\n",
       "      <td>3.770000</td>\n",
       "      <td>65.611455</td>\n",
       "      <td>92.000000</td>\n",
       "      <td>17.000000</td>\n",
       "      <td>43.350000</td>\n",
       "      <td>4.000000</td>\n",
       "      <td>93.000000</td>\n",
       "      <td>5.750000</td>\n",
       "      <td>93.000000</td>\n",
       "      <td>0.100000</td>\n",
       "      <td>1764.973870</td>\n",
       "      <td>1.391756e+06</td>\n",
       "      <td>3.300000</td>\n",
       "      <td>3.400000</td>\n",
       "      <td>0.677000</td>\n",
       "      <td>12.300000</td>\n",
       "    </tr>\n",
       "    <tr>\n",
       "      <th>75%</th>\n",
       "      <td>2011.25000</td>\n",
       "      <td>75.700000</td>\n",
       "      <td>228.000000</td>\n",
       "      <td>22.000000</td>\n",
       "      <td>7.715000</td>\n",
       "      <td>442.614322</td>\n",
       "      <td>97.000000</td>\n",
       "      <td>362.250000</td>\n",
       "      <td>56.100000</td>\n",
       "      <td>28.000000</td>\n",
       "      <td>97.000000</td>\n",
       "      <td>7.490000</td>\n",
       "      <td>97.000000</td>\n",
       "      <td>0.800000</td>\n",
       "      <td>5932.899677</td>\n",
       "      <td>7.426746e+06</td>\n",
       "      <td>7.200000</td>\n",
       "      <td>7.200000</td>\n",
       "      <td>0.779250</td>\n",
       "      <td>14.300000</td>\n",
       "    </tr>\n",
       "    <tr>\n",
       "      <th>max</th>\n",
       "      <td>2015.00000</td>\n",
       "      <td>89.000000</td>\n",
       "      <td>723.000000</td>\n",
       "      <td>1800.000000</td>\n",
       "      <td>17.870000</td>\n",
       "      <td>19479.911610</td>\n",
       "      <td>99.000000</td>\n",
       "      <td>212183.000000</td>\n",
       "      <td>77.600000</td>\n",
       "      <td>2500.000000</td>\n",
       "      <td>99.000000</td>\n",
       "      <td>17.600000</td>\n",
       "      <td>99.000000</td>\n",
       "      <td>50.600000</td>\n",
       "      <td>119172.741800</td>\n",
       "      <td>1.293859e+09</td>\n",
       "      <td>27.700000</td>\n",
       "      <td>28.600000</td>\n",
       "      <td>0.948000</td>\n",
       "      <td>20.700000</td>\n",
       "    </tr>\n",
       "  </tbody>\n",
       "</table>\n",
       "</div>"
      ],
      "text/plain": [
       "             Year  Life expectancy  Adult Mortality  ...  thinness 5-9 years  Income composition of resources    Schooling\n",
       "count  2928.00000      2928.000000      2928.000000  ...         2896.000000                      2768.000000  2768.000000\n",
       "mean   2007.50000        69.224932       164.796448  ...            4.881423                         0.627419    11.999639\n",
       "std       4.61056         9.523867       124.292079  ...            4.509609                         0.210978     3.346440\n",
       "min    2000.00000        36.300000         1.000000  ...            0.100000                         0.000000     0.000000\n",
       "25%    2003.75000        63.100000        74.000000  ...            1.575000                         0.493000    10.100000\n",
       "50%    2007.50000        72.100000       144.000000  ...            3.400000                         0.677000    12.300000\n",
       "75%    2011.25000        75.700000       228.000000  ...            7.200000                         0.779250    14.300000\n",
       "max    2015.00000        89.000000       723.000000  ...           28.600000                         0.948000    20.700000\n",
       "\n",
       "[8 rows x 20 columns]"
      ]
     },
     "execution_count": 9,
     "metadata": {},
     "output_type": "execute_result"
    }
   ],
   "source": [
    "df.describe()"
   ]
  },
  {
   "cell_type": "code",
   "execution_count": 10,
   "id": "684f02f8",
   "metadata": {
    "ExecuteTime": {
     "end_time": "2023-08-21T19:11:43.197597Z",
     "start_time": "2023-08-21T19:11:42.905994Z"
    }
   },
   "outputs": [
    {
     "data": {
      "image/png": "[encoded data removed]",
      "text/plain": [
       "<Figure size 600x500 with 2 Axes>"
      ]
     },
     "metadata": {},
     "output_type": "display_data"
    }
   ],
   "source": [
    "target = 'Life expectancy'\n",
    "\n",
    "grid_spec = {'height_ratios':[0.8,0.2]}\n",
    "fig, axes = plt.subplots(nrows=2, figsize=(6,5), gridspec_kw=grid_spec)\n",
    "\n",
    "sns.histplot(data=df, x=target,ax=axes[0])\n",
    "sns.boxplot(data=df, x=target, ax=axes[1]);"
   ]
  },
  {
   "cell_type": "markdown",
   "id": "150ae49f",
   "metadata": {},
   "source": [
    "## Preprocessing (with Sklearn v1.1+)"
   ]
  },
  {
   "cell_type": "code",
   "execution_count": 11,
   "id": "a36a872a",
   "metadata": {
    "ExecuteTime": {
     "end_time": "2023-08-21T19:11:43.232296Z",
     "start_time": "2023-08-21T19:11:43.198599Z"
    }
   },
   "outputs": [
    {
     "data": {
      "text/html": [
       "<div>\n",
       "<style scoped>\n",
       "    .dataframe tbody tr th:only-of-type {\n",
       "        vertical-align: middle;\n",
       "    }\n",
       "\n",
       "    .dataframe tbody tr th {\n",
       "        vertical-align: top;\n",
       "    }\n",
       "\n",
       "    .dataframe thead th {\n",
       "        text-align: right;\n",
       "    }\n",
       "</style>\n",
       "<table border=\"1\" class=\"dataframe\">\n",
       "  <thead>\n",
       "    <tr style=\"text-align: right;\">\n",
       "      <th></th>\n",
       "      <th>Country</th>\n",
       "      <th>Year</th>\n",
       "      <th>Status</th>\n",
       "      <th>Adult Mortality</th>\n",
       "      <th>infant deaths</th>\n",
       "      <th>Alcohol</th>\n",
       "      <th>percentage expenditure</th>\n",
       "      <th>Hepatitis B</th>\n",
       "      <th>Measles</th>\n",
       "      <th>BMI</th>\n",
       "      <th>under-five deaths</th>\n",
       "      <th>Polio</th>\n",
       "      <th>Total expenditure</th>\n",
       "      <th>Diphtheria</th>\n",
       "      <th>HIV/AIDS</th>\n",
       "      <th>GDP</th>\n",
       "      <th>Population</th>\n",
       "      <th>thinness  1-19 years</th>\n",
       "      <th>thinness 5-9 years</th>\n",
       "      <th>Income composition of resources</th>\n",
       "      <th>Schooling</th>\n",
       "    </tr>\n",
       "  </thead>\n",
       "  <tbody>\n",
       "    <tr>\n",
       "      <th>2414</th>\n",
       "      <td>South Sudan</td>\n",
       "      <td>2010</td>\n",
       "      <td>Developing</td>\n",
       "      <td>359.0</td>\n",
       "      <td>27</td>\n",
       "      <td>NaN</td>\n",
       "      <td>0.000000</td>\n",
       "      <td>NaN</td>\n",
       "      <td>0</td>\n",
       "      <td>NaN</td>\n",
       "      <td>41</td>\n",
       "      <td>NaN</td>\n",
       "      <td>NaN</td>\n",
       "      <td>NaN</td>\n",
       "      <td>4.0</td>\n",
       "      <td>1562.239346</td>\n",
       "      <td>167192.0</td>\n",
       "      <td>NaN</td>\n",
       "      <td>NaN</td>\n",
       "      <td>0.000</td>\n",
       "      <td>0.0</td>\n",
       "    </tr>\n",
       "    <tr>\n",
       "      <th>1576</th>\n",
       "      <td>Malawi</td>\n",
       "      <td>2009</td>\n",
       "      <td>Developing</td>\n",
       "      <td>491.0</td>\n",
       "      <td>36</td>\n",
       "      <td>1.16</td>\n",
       "      <td>7.915071</td>\n",
       "      <td>93.0</td>\n",
       "      <td>21</td>\n",
       "      <td>17.3</td>\n",
       "      <td>56</td>\n",
       "      <td>93.0</td>\n",
       "      <td>1.18</td>\n",
       "      <td>93.0</td>\n",
       "      <td>14.9</td>\n",
       "      <td>42.737966</td>\n",
       "      <td>1471462.0</td>\n",
       "      <td>6.9</td>\n",
       "      <td>6.8</td>\n",
       "      <td>0.415</td>\n",
       "      <td>9.9</td>\n",
       "    </tr>\n",
       "    <tr>\n",
       "      <th>2559</th>\n",
       "      <td>Tajikistan</td>\n",
       "      <td>2009</td>\n",
       "      <td>Developing</td>\n",
       "      <td>174.0</td>\n",
       "      <td>10</td>\n",
       "      <td>0.30</td>\n",
       "      <td>35.716138</td>\n",
       "      <td>93.0</td>\n",
       "      <td>0</td>\n",
       "      <td>35.9</td>\n",
       "      <td>12</td>\n",
       "      <td>93.0</td>\n",
       "      <td>5.93</td>\n",
       "      <td>93.0</td>\n",
       "      <td>0.2</td>\n",
       "      <td>666.345857</td>\n",
       "      <td>7472819.0</td>\n",
       "      <td>3.7</td>\n",
       "      <td>3.8</td>\n",
       "      <td>0.601</td>\n",
       "      <td>11.1</td>\n",
       "    </tr>\n",
       "  </tbody>\n",
       "</table>\n",
       "</div>"
      ],
      "text/plain": [
       "          Country  Year      Status  ...  thinness 5-9 years  Income composition of resources  Schooling\n",
       "2414  South Sudan  2010  Developing  ...                 NaN                            0.000        0.0\n",
       "1576       Malawi  2009  Developing  ...                 6.8                            0.415        9.9\n",
       "2559   Tajikistan  2009  Developing  ...                 3.8                            0.601       11.1\n",
       "\n",
       "[3 rows x 21 columns]"
      ]
     },
     "execution_count": 11,
     "metadata": {},
     "output_type": "execute_result"
    }
   ],
   "source": [
    "# ### Train Test Split\n",
    "## Make x and y variables\n",
    "target = \"Life expectancy\"\n",
    "drop_feats = []\n",
    "\n",
    "y = df[target].copy()\n",
    "X = df.drop(columns=[target, *drop_feats]).copy()\n",
    "\n",
    "## train-test-split with random state for reproducibility\n",
    "X_train, X_test, y_train, y_test = train_test_split(X,y, random_state=SEED)\n",
    "X_train.head(3)"
   ]
  },
  {
   "cell_type": "markdown",
   "id": "3c76ea16",
   "metadata": {},
   "source": [
    "### Drop Country Columns\n",
    "\n",
    "We are going to drop the country columns.  Why?  3 reasons:\n",
    "\n",
    "1. The ultimate goal of the business problem is to focus on high impact areas of change.  A country cannot change what it is.  Zimbabwe cannot become Sweden!  Instead, we will focus on the features that CAN be changed.\n",
    "\n",
    "2. After one-hot encoding there are too many features to analyze.  We need to reduce our focus\n",
    "\n",
    "3. one-hot encoded countries add multi-collinearity to our features, reducing the reliability of our analysis."
   ]
  },
  {
   "cell_type": "code",
   "execution_count": 12,
   "id": "ac512e5e",
   "metadata": {
    "ExecuteTime": {
     "end_time": "2023-08-21T19:11:43.248276Z",
     "start_time": "2023-08-21T19:11:43.234293Z"
    }
   },
   "outputs": [],
   "source": [
    "X_train = X_train.drop(columns='Country')\n",
    "X_test = X_test.drop(columns='Country')"
   ]
  },
  {
   "cell_type": "markdown",
   "id": "5dc39bea",
   "metadata": {},
   "source": [
    "### Categorical Processing Pipeline"
   ]
  },
  {
   "cell_type": "code",
   "execution_count": 13,
   "id": "f77d893c",
   "metadata": {
    "ExecuteTime": {
     "end_time": "2023-08-21T19:11:43.260021Z",
     "start_time": "2023-08-21T19:11:43.249273Z"
    },
    "scrolled": true
   },
   "outputs": [],
   "source": [
    "## Make numeric preprocessing pipeline\n",
    "num_sel = make_column_selector(dtype_include='number')\n",
    "mean_imputer = SimpleImputer(strategy='mean')\n",
    "\n",
    "num_tuple = ('Numeric', mean_imputer, num_sel)"
   ]
  },
  {
   "cell_type": "markdown",
   "id": "c3ca985a",
   "metadata": {},
   "source": [
    "### Numeric Processing Pipeline"
   ]
  },
  {
   "cell_type": "markdown",
   "id": "d700672e",
   "metadata": {},
   "source": [
    "<center> <font color='red' size=5>Notice We Are Not Scaling!!! </font>\n",
    "    \n",
    "   **<center> Q: Why not? </center>**"
   ]
  },
  {
   "cell_type": "code",
   "execution_count": 14,
   "id": "6c7bffdd",
   "metadata": {
    "ExecuteTime": {
     "end_time": "2023-08-21T19:11:43.275192Z",
     "start_time": "2023-08-21T19:11:43.264217Z"
    }
   },
   "outputs": [],
   "source": [
    "## Make categorical preprocessing pipeline\n",
    "## Drop one of the binary columns after OHE to reduce multicollinearity\n",
    "cat_sel = make_column_selector(dtype_include='object')\n",
    "\n",
    "cat_pipe = make_pipeline(SimpleImputer(strategy='constant',\n",
    "                                       fill_value='MISSING'),\n",
    "                         OneHotEncoder(handle_unknown='ignore', \n",
    "                                       sparse_output=False,\n",
    "                                       drop='if_binary'))\n",
    "\n",
    "cat_tuple = ('Categorical', cat_pipe, cat_sel)"
   ]
  },
  {
   "cell_type": "code",
   "execution_count": 15,
   "id": "a4df81e7",
   "metadata": {
    "ExecuteTime": {
     "end_time": "2023-08-21T19:11:43.307134Z",
     "start_time": "2023-08-21T19:11:43.277187Z"
    }
   },
   "outputs": [
    {
     "data": {
      "text/html": [
       "<style>#sk-container-id-1 {color: black;background-color: white;}#sk-container-id-1 pre{padding: 0;}#sk-container-id-1 div.sk-toggleable {background-color: white;}#sk-container-id-1 label.sk-toggleable__label {cursor: pointer;display: block;width: 100%;margin-bottom: 0;padding: 0.3em;box-sizing: border-box;text-align: center;}#sk-container-id-1 label.sk-toggleable__label-arrow:before {content: \"▸\";float: left;margin-right: 0.25em;color: #696969;}#sk-container-id-1 label.sk-toggleable__label-arrow:hover:before {color: black;}#sk-container-id-1 div.sk-estimator:hover label.sk-toggleable__label-arrow:before {color: black;}#sk-container-id-1 div.sk-toggleable__content {max-height: 0;max-width: 0;overflow: hidden;text-align: left;background-color: #f0f8ff;}#sk-container-id-1 div.sk-toggleable__content pre {margin: 0.2em;color: black;border-radius: 0.25em;background-color: #f0f8ff;}#sk-container-id-1 input.sk-toggleable__control:checked~div.sk-toggleable__content {max-height: 200px;max-width: 100%;overflow: auto;}#sk-container-id-1 input.sk-toggleable__control:checked~label.sk-toggleable__label-arrow:before {content: \"▾\";}#sk-container-id-1 div.sk-estimator input.sk-toggleable__control:checked~label.sk-toggleable__label {background-color: #d4ebff;}#sk-container-id-1 div.sk-label input.sk-toggleable__control:checked~label.sk-toggleable__label {background-color: #d4ebff;}#sk-container-id-1 input.sk-hidden--visually {border: 0;clip: rect(1px 1px 1px 1px);clip: rect(1px, 1px, 1px, 1px);height: 1px;margin: -1px;overflow: hidden;padding: 0;position: absolute;width: 1px;}#sk-container-id-1 div.sk-estimator {font-family: monospace;background-color: #f0f8ff;border: 1px dotted black;border-radius: 0.25em;box-sizing: border-box;margin-bottom: 0.5em;}#sk-container-id-1 div.sk-estimator:hover {background-color: #d4ebff;}#sk-container-id-1 div.sk-parallel-item::after {content: \"\";width: 100%;border-bottom: 1px solid gray;flex-grow: 1;}#sk-container-id-1 div.sk-label:hover label.sk-toggleable__label {background-color: #d4ebff;}#sk-container-id-1 div.sk-serial::before {content: \"\";position: absolute;border-left: 1px solid gray;box-sizing: border-box;top: 0;bottom: 0;left: 50%;z-index: 0;}#sk-container-id-1 div.sk-serial {display: flex;flex-direction: column;align-items: center;background-color: white;padding-right: 0.2em;padding-left: 0.2em;position: relative;}#sk-container-id-1 div.sk-item {position: relative;z-index: 1;}#sk-container-id-1 div.sk-parallel {display: flex;align-items: stretch;justify-content: center;background-color: white;position: relative;}#sk-container-id-1 div.sk-item::before, #sk-container-id-1 div.sk-parallel-item::before {content: \"\";position: absolute;border-left: 1px solid gray;box-sizing: border-box;top: 0;bottom: 0;left: 50%;z-index: -1;}#sk-container-id-1 div.sk-parallel-item {display: flex;flex-direction: column;z-index: 1;position: relative;background-color: white;}#sk-container-id-1 div.sk-parallel-item:first-child::after {align-self: flex-end;width: 50%;}#sk-container-id-1 div.sk-parallel-item:last-child::after {align-self: flex-start;width: 50%;}#sk-container-id-1 div.sk-parallel-item:only-child::after {width: 0;}#sk-container-id-1 div.sk-dashed-wrapped {border: 1px dashed gray;margin: 0 0.4em 0.5em 0.4em;box-sizing: border-box;padding-bottom: 0.4em;background-color: white;}#sk-container-id-1 div.sk-label label {font-family: monospace;font-weight: bold;display: inline-block;line-height: 1.2em;}#sk-container-id-1 div.sk-label-container {text-align: center;}#sk-container-id-1 div.sk-container {/* jupyter's `normalize.less` sets `[hidden] { display: none; }` but bootstrap.min.css set `[hidden] { display: none !important; }` so we also need the `!important` here to be able to override the default hidden behavior on the sphinx rendered scikit-learn.org. See: https://github.com/scikit-learn/scikit-learn/issues/21755 */display: inline-block !important;position: relative;}#sk-container-id-1 div.sk-text-repr-fallback {display: none;}</style><div id=\"sk-container-id-1\" class=\"sk-top-container\"><div class=\"sk-text-repr-fallback\"><pre>ColumnTransformer(transformers=[(&#x27;Numeric&#x27;, SimpleImputer(),\n",
       "                                 &lt;sklearn.compose._column_transformer.make_column_selector object at 0x0000028B84DC2290&gt;),\n",
       "                                (&#x27;Categorical&#x27;,\n",
       "                                 Pipeline(steps=[(&#x27;simpleimputer&#x27;,\n",
       "                                                  SimpleImputer(fill_value=&#x27;MISSING&#x27;,\n",
       "                                                                strategy=&#x27;constant&#x27;)),\n",
       "                                                 (&#x27;onehotencoder&#x27;,\n",
       "                                                  OneHotEncoder(drop=&#x27;if_binary&#x27;,\n",
       "                                                                handle_unknown=&#x27;ignore&#x27;,\n",
       "                                                                sparse_output=False))]),\n",
       "                                 &lt;sklearn.compose._column_transformer.make_column_selector object at 0x0000028B8577F5B0&gt;)],\n",
       "                  verbose_feature_names_out=False)</pre><b>In a Jupyter environment, please rerun this cell to show the HTML representation or trust the notebook. <br />On GitHub, the HTML representation is unable to render, please try loading this page with nbviewer.org.</b></div><div class=\"sk-container\" hidden><div class=\"sk-item sk-dashed-wrapped\"><div class=\"sk-label-container\"><div class=\"sk-label sk-toggleable\"><input class=\"sk-toggleable__control sk-hidden--visually\" id=\"sk-estimator-id-1\" type=\"checkbox\" ><label for=\"sk-estimator-id-1\" class=\"sk-toggleable__label sk-toggleable__label-arrow\">ColumnTransformer</label><div class=\"sk-toggleable__content\"><pre>ColumnTransformer(transformers=[(&#x27;Numeric&#x27;, SimpleImputer(),\n",
       "                                 &lt;sklearn.compose._column_transformer.make_column_selector object at 0x0000028B84DC2290&gt;),\n",
       "                                (&#x27;Categorical&#x27;,\n",
       "                                 Pipeline(steps=[(&#x27;simpleimputer&#x27;,\n",
       "                                                  SimpleImputer(fill_value=&#x27;MISSING&#x27;,\n",
       "                                                                strategy=&#x27;constant&#x27;)),\n",
       "                                                 (&#x27;onehotencoder&#x27;,\n",
       "                                                  OneHotEncoder(drop=&#x27;if_binary&#x27;,\n",
       "                                                                handle_unknown=&#x27;ignore&#x27;,\n",
       "                                                                sparse_output=False))]),\n",
       "                                 &lt;sklearn.compose._column_transformer.make_column_selector object at 0x0000028B8577F5B0&gt;)],\n",
       "                  verbose_feature_names_out=False)</pre></div></div></div><div class=\"sk-parallel\"><div class=\"sk-parallel-item\"><div class=\"sk-item\"><div class=\"sk-label-container\"><div class=\"sk-label sk-toggleable\"><input class=\"sk-toggleable__control sk-hidden--visually\" id=\"sk-estimator-id-2\" type=\"checkbox\" ><label for=\"sk-estimator-id-2\" class=\"sk-toggleable__label sk-toggleable__label-arrow\">Numeric</label><div class=\"sk-toggleable__content\"><pre>&lt;sklearn.compose._column_transformer.make_column_selector object at 0x0000028B84DC2290&gt;</pre></div></div></div><div class=\"sk-serial\"><div class=\"sk-item\"><div class=\"sk-estimator sk-toggleable\"><input class=\"sk-toggleable__control sk-hidden--visually\" id=\"sk-estimator-id-3\" type=\"checkbox\" ><label for=\"sk-estimator-id-3\" class=\"sk-toggleable__label sk-toggleable__label-arrow\">SimpleImputer</label><div class=\"sk-toggleable__content\"><pre>SimpleImputer()</pre></div></div></div></div></div></div><div class=\"sk-parallel-item\"><div class=\"sk-item\"><div class=\"sk-label-container\"><div class=\"sk-label sk-toggleable\"><input class=\"sk-toggleable__control sk-hidden--visually\" id=\"sk-estimator-id-4\" type=\"checkbox\" ><label for=\"sk-estimator-id-4\" class=\"sk-toggleable__label sk-toggleable__label-arrow\">Categorical</label><div class=\"sk-toggleable__content\"><pre>&lt;sklearn.compose._column_transformer.make_column_selector object at 0x0000028B8577F5B0&gt;</pre></div></div></div><div class=\"sk-serial\"><div class=\"sk-item\"><div class=\"sk-serial\"><div class=\"sk-item\"><div class=\"sk-estimator sk-toggleable\"><input class=\"sk-toggleable__control sk-hidden--visually\" id=\"sk-estimator-id-5\" type=\"checkbox\" ><label for=\"sk-estimator-id-5\" class=\"sk-toggleable__label sk-toggleable__label-arrow\">SimpleImputer</label><div class=\"sk-toggleable__content\"><pre>SimpleImputer(fill_value=&#x27;MISSING&#x27;, strategy=&#x27;constant&#x27;)</pre></div></div></div><div class=\"sk-item\"><div class=\"sk-estimator sk-toggleable\"><input class=\"sk-toggleable__control sk-hidden--visually\" id=\"sk-estimator-id-6\" type=\"checkbox\" ><label for=\"sk-estimator-id-6\" class=\"sk-toggleable__label sk-toggleable__label-arrow\">OneHotEncoder</label><div class=\"sk-toggleable__content\"><pre>OneHotEncoder(drop=&#x27;if_binary&#x27;, handle_unknown=&#x27;ignore&#x27;, sparse_output=False)</pre></div></div></div></div></div></div></div></div></div></div></div></div>"
      ],
      "text/plain": [
       "ColumnTransformer(transformers=[('Numeric', SimpleImputer(),\n",
       "                                 <sklearn.compose._column_transformer.make_column_selector object at 0x0000028B84DC2290>),\n",
       "                                ('Categorical',\n",
       "                                 Pipeline(steps=[('simpleimputer',\n",
       "                                                  SimpleImputer(fill_value='MISSING',\n",
       "                                                                strategy='constant')),\n",
       "                                                 ('onehotencoder',\n",
       "                                                  OneHotEncoder(drop='if_binary',\n",
       "                                                                handle_unknown='ignore',\n",
       "                                                                sparse_output=False))]),\n",
       "                                 <sklearn.compose._column_transformer.make_column_selector object at 0x0000028B8577F5B0>)],\n",
       "                  verbose_feature_names_out=False)"
      ]
     },
     "execution_count": 15,
     "metadata": {},
     "output_type": "execute_result"
    }
   ],
   "source": [
    "## make the preprocessing column transformer\n",
    "preprocessor = ColumnTransformer([num_tuple, cat_tuple],\n",
    "                                verbose_feature_names_out=False)\n",
    "preprocessor"
   ]
  },
  {
   "cell_type": "markdown",
   "id": "1e7ede1e",
   "metadata": {},
   "source": [
    "### Creating Unscaled Processed df"
   ]
  },
  {
   "cell_type": "code",
   "execution_count": 16,
   "id": "2af088ce",
   "metadata": {
    "ExecuteTime": {
     "end_time": "2023-08-21T19:12:12.112365Z",
     "start_time": "2023-08-21T19:12:12.043744Z"
    }
   },
   "outputs": [
    {
     "data": {
      "text/html": [
       "<div>\n",
       "<style scoped>\n",
       "    .dataframe tbody tr th:only-of-type {\n",
       "        vertical-align: middle;\n",
       "    }\n",
       "\n",
       "    .dataframe tbody tr th {\n",
       "        vertical-align: top;\n",
       "    }\n",
       "\n",
       "    .dataframe thead th {\n",
       "        text-align: right;\n",
       "    }\n",
       "</style>\n",
       "<table border=\"1\" class=\"dataframe\">\n",
       "  <thead>\n",
       "    <tr style=\"text-align: right;\">\n",
       "      <th></th>\n",
       "      <th>Year</th>\n",
       "      <th>Adult Mortality</th>\n",
       "      <th>infant deaths</th>\n",
       "      <th>Alcohol</th>\n",
       "      <th>percentage expenditure</th>\n",
       "      <th>Hepatitis B</th>\n",
       "      <th>Measles</th>\n",
       "      <th>BMI</th>\n",
       "      <th>under-five deaths</th>\n",
       "      <th>Polio</th>\n",
       "      <th>Total expenditure</th>\n",
       "      <th>Diphtheria</th>\n",
       "      <th>HIV/AIDS</th>\n",
       "      <th>GDP</th>\n",
       "      <th>Population</th>\n",
       "      <th>thinness  1-19 years</th>\n",
       "      <th>thinness 5-9 years</th>\n",
       "      <th>Income composition of resources</th>\n",
       "      <th>Schooling</th>\n",
       "      <th>Status_Developing</th>\n",
       "    </tr>\n",
       "  </thead>\n",
       "  <tbody>\n",
       "    <tr>\n",
       "      <th>2414</th>\n",
       "      <td>2010.0</td>\n",
       "      <td>359.0</td>\n",
       "      <td>27.0</td>\n",
       "      <td>4.580078</td>\n",
       "      <td>0.000000</td>\n",
       "      <td>81.438929</td>\n",
       "      <td>0.0</td>\n",
       "      <td>38.113041</td>\n",
       "      <td>41.0</td>\n",
       "      <td>82.490834</td>\n",
       "      <td>5.931982</td>\n",
       "      <td>82.451879</td>\n",
       "      <td>4.0</td>\n",
       "      <td>1562.239346</td>\n",
       "      <td>167192.0</td>\n",
       "      <td>4.811567</td>\n",
       "      <td>4.819493</td>\n",
       "      <td>0.000</td>\n",
       "      <td>0.0</td>\n",
       "      <td>1.0</td>\n",
       "    </tr>\n",
       "    <tr>\n",
       "      <th>1576</th>\n",
       "      <td>2009.0</td>\n",
       "      <td>491.0</td>\n",
       "      <td>36.0</td>\n",
       "      <td>1.160000</td>\n",
       "      <td>7.915071</td>\n",
       "      <td>93.000000</td>\n",
       "      <td>21.0</td>\n",
       "      <td>17.300000</td>\n",
       "      <td>56.0</td>\n",
       "      <td>93.000000</td>\n",
       "      <td>1.180000</td>\n",
       "      <td>93.000000</td>\n",
       "      <td>14.9</td>\n",
       "      <td>42.737966</td>\n",
       "      <td>1471462.0</td>\n",
       "      <td>6.900000</td>\n",
       "      <td>6.800000</td>\n",
       "      <td>0.415</td>\n",
       "      <td>9.9</td>\n",
       "      <td>1.0</td>\n",
       "    </tr>\n",
       "    <tr>\n",
       "      <th>2559</th>\n",
       "      <td>2009.0</td>\n",
       "      <td>174.0</td>\n",
       "      <td>10.0</td>\n",
       "      <td>0.300000</td>\n",
       "      <td>35.716138</td>\n",
       "      <td>93.000000</td>\n",
       "      <td>0.0</td>\n",
       "      <td>35.900000</td>\n",
       "      <td>12.0</td>\n",
       "      <td>93.000000</td>\n",
       "      <td>5.930000</td>\n",
       "      <td>93.000000</td>\n",
       "      <td>0.2</td>\n",
       "      <td>666.345857</td>\n",
       "      <td>7472819.0</td>\n",
       "      <td>3.700000</td>\n",
       "      <td>3.800000</td>\n",
       "      <td>0.601</td>\n",
       "      <td>11.1</td>\n",
       "      <td>1.0</td>\n",
       "    </tr>\n",
       "    <tr>\n",
       "      <th>1524</th>\n",
       "      <td>2013.0</td>\n",
       "      <td>178.0</td>\n",
       "      <td>0.0</td>\n",
       "      <td>15.040000</td>\n",
       "      <td>1968.816817</td>\n",
       "      <td>93.000000</td>\n",
       "      <td>35.0</td>\n",
       "      <td>61.400000</td>\n",
       "      <td>0.0</td>\n",
       "      <td>93.000000</td>\n",
       "      <td>6.590000</td>\n",
       "      <td>93.000000</td>\n",
       "      <td>0.1</td>\n",
       "      <td>15712.823760</td>\n",
       "      <td>2957689.0</td>\n",
       "      <td>2.700000</td>\n",
       "      <td>2.700000</td>\n",
       "      <td>0.834</td>\n",
       "      <td>16.4</td>\n",
       "      <td>0.0</td>\n",
       "    </tr>\n",
       "    <tr>\n",
       "      <th>33</th>\n",
       "      <td>2014.0</td>\n",
       "      <td>11.0</td>\n",
       "      <td>21.0</td>\n",
       "      <td>0.010000</td>\n",
       "      <td>54.237318</td>\n",
       "      <td>95.000000</td>\n",
       "      <td>0.0</td>\n",
       "      <td>58.400000</td>\n",
       "      <td>24.0</td>\n",
       "      <td>95.000000</td>\n",
       "      <td>7.210000</td>\n",
       "      <td>95.000000</td>\n",
       "      <td>0.1</td>\n",
       "      <td>547.851700</td>\n",
       "      <td>39113313.0</td>\n",
       "      <td>6.000000</td>\n",
       "      <td>5.800000</td>\n",
       "      <td>0.741</td>\n",
       "      <td>14.4</td>\n",
       "      <td>1.0</td>\n",
       "    </tr>\n",
       "  </tbody>\n",
       "</table>\n",
       "</div>"
      ],
      "text/plain": [
       "        Year  Adult Mortality  infant deaths  ...  Income composition of resources  Schooling  Status_Developing\n",
       "2414  2010.0            359.0           27.0  ...                            0.000        0.0                1.0\n",
       "1576  2009.0            491.0           36.0  ...                            0.415        9.9                1.0\n",
       "2559  2009.0            174.0           10.0  ...                            0.601       11.1                1.0\n",
       "1524  2013.0            178.0            0.0  ...                            0.834       16.4                0.0\n",
       "33    2014.0             11.0           21.0  ...                            0.741       14.4                1.0\n",
       "\n",
       "[5 rows x 20 columns]"
      ]
     },
     "execution_count": 16,
     "metadata": {},
     "output_type": "execute_result"
    }
   ],
   "source": [
    "## fit preprocessor and transform data\n",
    "preprocessor.fit(X_train)\n",
    "X_train_proc = preprocessor.transform(X_train)\n",
    "X_test_proc = preprocessor.transform(X_test)\n",
    "X_train_proc.head()"
   ]
  },
  {
   "cell_type": "markdown",
   "id": "4f7809a0",
   "metadata": {},
   "source": [
    "# Modeling - Linear Regression"
   ]
  },
  {
   "cell_type": "markdown",
   "id": "1b2fa28b",
   "metadata": {},
   "source": [
    "### Linear Model Assumptions\n",
    "\n",
    "**Linearity:**\n",
    "That the input features have a linear relationship with the target.\n",
    "\n",
    "**Independence of Features:** (AKA Little-to-No Multicollinearity)\n",
    "That the features are not strongly related to other features.\n",
    "\n",
    "**Normality:**\n",
    "The model's residuals are approximately normally distributed.\n",
    "\n",
    "**Homoscedasticity:**\n",
    "The model residuals have equal variance across all predictions."
   ]
  },
  {
   "cell_type": "markdown",
   "id": "2354dcaa",
   "metadata": {},
   "source": [
    "## Model 1: LinReg"
   ]
  },
  {
   "cell_type": "code",
   "execution_count": 17,
   "id": "98d32377",
   "metadata": {
    "ExecuteTime": {
     "end_time": "2023-08-21T19:12:20.451466Z",
     "start_time": "2023-08-21T19:12:20.363750Z"
    }
   },
   "outputs": [
    {
     "data": {
      "text/html": [
       "<style type=\"text/css\">\n",
       "</style>\n",
       "<table id=\"T_301df\">\n",
       "  <thead>\n",
       "    <tr>\n",
       "      <th id=\"T_301df_level0_col0\" class=\"col_heading level0 col0\" >Split</th>\n",
       "      <th id=\"T_301df_level0_col1\" class=\"col_heading level0 col1\" >R^2</th>\n",
       "      <th id=\"T_301df_level0_col2\" class=\"col_heading level0 col2\" >MAE</th>\n",
       "      <th id=\"T_301df_level0_col3\" class=\"col_heading level0 col3\" >RMSE</th>\n",
       "    </tr>\n",
       "  </thead>\n",
       "  <tbody>\n",
       "    <tr>\n",
       "      <td id=\"T_301df_row0_col0\" class=\"data row0 col0\" >Train</td>\n",
       "      <td id=\"T_301df_row0_col1\" class=\"data row0 col1\" >0.82</td>\n",
       "      <td id=\"T_301df_row0_col2\" class=\"data row0 col2\" >3.00</td>\n",
       "      <td id=\"T_301df_row0_col3\" class=\"data row0 col3\" >4.02</td>\n",
       "    </tr>\n",
       "    <tr>\n",
       "      <td id=\"T_301df_row1_col0\" class=\"data row1 col0\" >Test</td>\n",
       "      <td id=\"T_301df_row1_col1\" class=\"data row1 col1\" >0.82</td>\n",
       "      <td id=\"T_301df_row1_col2\" class=\"data row1 col2\" >3.06</td>\n",
       "      <td id=\"T_301df_row1_col3\" class=\"data row1 col3\" >4.12</td>\n",
       "    </tr>\n",
       "  </tbody>\n",
       "</table>\n"
      ],
      "text/plain": [
       "<pandas.io.formats.style.Styler at 0x28b84f0f3d0>"
      ]
     },
     "metadata": {},
     "output_type": "display_data"
    }
   ],
   "source": [
    "from sklearn.linear_model import LinearRegression\n",
    "lin_reg = LinearRegression()\n",
    "lin_reg.fit(X_train_proc, y_train)\n",
    "evaluate_regression(lin_reg, X_train_proc, y_train, \n",
    "                    X_test_proc, y_test)"
   ]
  },
  {
   "cell_type": "markdown",
   "id": "3cabe320",
   "metadata": {},
   "source": [
    "### Extracting and Visualizing Coefficients"
   ]
  },
  {
   "cell_type": "markdown",
   "id": "c4d32bf5",
   "metadata": {},
   "source": [
    "#### Extracting Coefficients from lin_reg"
   ]
  },
  {
   "cell_type": "code",
   "execution_count": 18,
   "id": "6448751f",
   "metadata": {
    "ExecuteTime": {
     "end_time": "2023-08-21T19:12:23.244863Z",
     "start_time": "2023-08-21T19:12:23.227878Z"
    }
   },
   "outputs": [
    {
     "data": {
      "text/plain": [
       "array([-1.67570818e-02, -1.93424440e-02,  1.07022049e-01,  5.55952621e-02,\n",
       "        2.13604624e-05, -9.58554743e-03, -2.74178194e-05,  3.90620391e-02,\n",
       "       -8.10436910e-02,  2.50137362e-02,  1.06217157e-01,  3.76506051e-02,\n",
       "       -4.78895688e-01,  4.45034481e-05,  4.18631809e-09, -4.97650015e-02,\n",
       "       -2.65388724e-02,  5.73701612e+00,  6.85728848e-01, -1.48439919e+00])"
      ]
     },
     "execution_count": 18,
     "metadata": {},
     "output_type": "execute_result"
    }
   ],
   "source": [
    "# access the .coef_ \n",
    "lin_reg.coef_\n"
   ]
  },
  {
   "cell_type": "code",
   "execution_count": 19,
   "id": "b6cde4b6",
   "metadata": {
    "ExecuteTime": {
     "end_time": "2023-08-21T19:12:23.546497Z",
     "start_time": "2023-08-21T19:12:23.523796Z"
    }
   },
   "outputs": [
    {
     "data": {
      "text/plain": [
       "89.69300579166091"
      ]
     },
     "execution_count": 19,
     "metadata": {},
     "output_type": "execute_result"
    }
   ],
   "source": [
    "# Intercept\n",
    "lin_reg.intercept_\n"
   ]
  },
  {
   "cell_type": "code",
   "execution_count": 23,
   "id": "beaa5a79",
   "metadata": {
    "ExecuteTime": {
     "end_time": "2023-08-21T19:12:27.344162Z",
     "start_time": "2023-08-21T19:12:27.333203Z"
    }
   },
   "outputs": [
    {
     "data": {
      "text/html": [
       "<div>\n",
       "<style scoped>\n",
       "    .dataframe tbody tr th:only-of-type {\n",
       "        vertical-align: middle;\n",
       "    }\n",
       "\n",
       "    .dataframe tbody tr th {\n",
       "        vertical-align: top;\n",
       "    }\n",
       "\n",
       "    .dataframe thead th {\n",
       "        text-align: right;\n",
       "    }\n",
       "</style>\n",
       "<table border=\"1\" class=\"dataframe\">\n",
       "  <thead>\n",
       "    <tr style=\"text-align: right;\">\n",
       "      <th></th>\n",
       "      <th>0</th>\n",
       "    </tr>\n",
       "  </thead>\n",
       "  <tbody>\n",
       "    <tr>\n",
       "      <th>Year</th>\n",
       "      <td>-1.675708e-02</td>\n",
       "    </tr>\n",
       "    <tr>\n",
       "      <th>Adult Mortality</th>\n",
       "      <td>-1.934244e-02</td>\n",
       "    </tr>\n",
       "    <tr>\n",
       "      <th>infant deaths</th>\n",
       "      <td>1.070220e-01</td>\n",
       "    </tr>\n",
       "    <tr>\n",
       "      <th>Alcohol</th>\n",
       "      <td>5.559526e-02</td>\n",
       "    </tr>\n",
       "    <tr>\n",
       "      <th>percentage expenditure</th>\n",
       "      <td>2.136046e-05</td>\n",
       "    </tr>\n",
       "    <tr>\n",
       "      <th>Hepatitis B</th>\n",
       "      <td>-9.585547e-03</td>\n",
       "    </tr>\n",
       "    <tr>\n",
       "      <th>Measles</th>\n",
       "      <td>-2.741782e-05</td>\n",
       "    </tr>\n",
       "    <tr>\n",
       "      <th>BMI</th>\n",
       "      <td>3.906204e-02</td>\n",
       "    </tr>\n",
       "    <tr>\n",
       "      <th>under-five deaths</th>\n",
       "      <td>-8.104369e-02</td>\n",
       "    </tr>\n",
       "    <tr>\n",
       "      <th>Polio</th>\n",
       "      <td>2.501374e-02</td>\n",
       "    </tr>\n",
       "    <tr>\n",
       "      <th>Total expenditure</th>\n",
       "      <td>1.062172e-01</td>\n",
       "    </tr>\n",
       "    <tr>\n",
       "      <th>Diphtheria</th>\n",
       "      <td>3.765061e-02</td>\n",
       "    </tr>\n",
       "    <tr>\n",
       "      <th>HIV/AIDS</th>\n",
       "      <td>-4.788957e-01</td>\n",
       "    </tr>\n",
       "    <tr>\n",
       "      <th>GDP</th>\n",
       "      <td>4.450345e-05</td>\n",
       "    </tr>\n",
       "    <tr>\n",
       "      <th>Population</th>\n",
       "      <td>4.186318e-09</td>\n",
       "    </tr>\n",
       "    <tr>\n",
       "      <th>thinness  1-19 years</th>\n",
       "      <td>-4.976500e-02</td>\n",
       "    </tr>\n",
       "    <tr>\n",
       "      <th>thinness 5-9 years</th>\n",
       "      <td>-2.653887e-02</td>\n",
       "    </tr>\n",
       "    <tr>\n",
       "      <th>Income composition of resources</th>\n",
       "      <td>5.737016e+00</td>\n",
       "    </tr>\n",
       "    <tr>\n",
       "      <th>Schooling</th>\n",
       "      <td>6.857288e-01</td>\n",
       "    </tr>\n",
       "    <tr>\n",
       "      <th>Status_Developing</th>\n",
       "      <td>-1.484399e+00</td>\n",
       "    </tr>\n",
       "  </tbody>\n",
       "</table>\n",
       "</div>"
      ],
      "text/plain": [
       "                                            0\n",
       "Year                            -1.675708e-02\n",
       "Adult Mortality                 -1.934244e-02\n",
       "infant deaths                    1.070220e-01\n",
       "Alcohol                          5.559526e-02\n",
       "percentage expenditure           2.136046e-05\n",
       "Hepatitis B                     -9.585547e-03\n",
       "Measles                         -2.741782e-05\n",
       "BMI                              3.906204e-02\n",
       "under-five deaths               -8.104369e-02\n",
       "Polio                            2.501374e-02\n",
       "Total expenditure                1.062172e-01\n",
       "Diphtheria                       3.765061e-02\n",
       "HIV/AIDS                        -4.788957e-01\n",
       "GDP                              4.450345e-05\n",
       "Population                       4.186318e-09\n",
       "thinness  1-19 years            -4.976500e-02\n",
       "thinness 5-9 years              -2.653887e-02\n",
       "Income composition of resources  5.737016e+00\n",
       "Schooling                        6.857288e-01\n",
       "Status_Developing               -1.484399e+00"
      ]
     },
     "execution_count": 23,
     "metadata": {},
     "output_type": "execute_result"
    }
   ],
   "source": [
    "## Saving the coefficients\n",
    "coefs = pd.DataFrame(lin_reg.coef_, index=lin_reg.feature_names_in_)\n",
    "coefs\n"
   ]
  },
  {
   "cell_type": "markdown",
   "id": "948f56da",
   "metadata": {},
   "source": [
    "### def `get_coefficients`"
   ]
  },
  {
   "cell_type": "code",
   "execution_count": 26,
   "id": "d9942674",
   "metadata": {
    "ExecuteTime": {
     "end_time": "2023-08-21T19:14:55.394162Z",
     "start_time": "2023-08-21T19:14:55.380167Z"
    }
   },
   "outputs": [],
   "source": [
    "## Change Pandas default formatting to use thousands sep, and 4 digits floats\n",
    "pd.set_option('display.float_format', lambda x: f'{x:,.4f}')\n"
   ]
  },
  {
   "cell_type": "code",
   "execution_count": 27,
   "id": "54659e65",
   "metadata": {
    "ExecuteTime": {
     "end_time": "2023-08-21T18:59:09.691440Z",
     "start_time": "2023-08-21T18:59:09.684459Z"
    }
   },
   "outputs": [
    {
     "data": {
      "text/html": [
       "<div>\n",
       "<style scoped>\n",
       "    .dataframe tbody tr th:only-of-type {\n",
       "        vertical-align: middle;\n",
       "    }\n",
       "\n",
       "    .dataframe tbody tr th {\n",
       "        vertical-align: top;\n",
       "    }\n",
       "\n",
       "    .dataframe thead th {\n",
       "        text-align: right;\n",
       "    }\n",
       "</style>\n",
       "<table border=\"1\" class=\"dataframe\">\n",
       "  <thead>\n",
       "    <tr style=\"text-align: right;\">\n",
       "      <th></th>\n",
       "      <th>0</th>\n",
       "    </tr>\n",
       "  </thead>\n",
       "  <tbody>\n",
       "    <tr>\n",
       "      <th>Year</th>\n",
       "      <td>-0.0168</td>\n",
       "    </tr>\n",
       "    <tr>\n",
       "      <th>Adult Mortality</th>\n",
       "      <td>-0.0193</td>\n",
       "    </tr>\n",
       "    <tr>\n",
       "      <th>infant deaths</th>\n",
       "      <td>0.1070</td>\n",
       "    </tr>\n",
       "    <tr>\n",
       "      <th>Alcohol</th>\n",
       "      <td>0.0556</td>\n",
       "    </tr>\n",
       "    <tr>\n",
       "      <th>percentage expenditure</th>\n",
       "      <td>0.0000</td>\n",
       "    </tr>\n",
       "    <tr>\n",
       "      <th>Hepatitis B</th>\n",
       "      <td>-0.0096</td>\n",
       "    </tr>\n",
       "    <tr>\n",
       "      <th>Measles</th>\n",
       "      <td>-0.0000</td>\n",
       "    </tr>\n",
       "    <tr>\n",
       "      <th>BMI</th>\n",
       "      <td>0.0391</td>\n",
       "    </tr>\n",
       "    <tr>\n",
       "      <th>under-five deaths</th>\n",
       "      <td>-0.0810</td>\n",
       "    </tr>\n",
       "    <tr>\n",
       "      <th>Polio</th>\n",
       "      <td>0.0250</td>\n",
       "    </tr>\n",
       "    <tr>\n",
       "      <th>Total expenditure</th>\n",
       "      <td>0.1062</td>\n",
       "    </tr>\n",
       "    <tr>\n",
       "      <th>Diphtheria</th>\n",
       "      <td>0.0377</td>\n",
       "    </tr>\n",
       "    <tr>\n",
       "      <th>HIV/AIDS</th>\n",
       "      <td>-0.4789</td>\n",
       "    </tr>\n",
       "    <tr>\n",
       "      <th>GDP</th>\n",
       "      <td>0.0000</td>\n",
       "    </tr>\n",
       "    <tr>\n",
       "      <th>Population</th>\n",
       "      <td>0.0000</td>\n",
       "    </tr>\n",
       "    <tr>\n",
       "      <th>thinness  1-19 years</th>\n",
       "      <td>-0.0498</td>\n",
       "    </tr>\n",
       "    <tr>\n",
       "      <th>thinness 5-9 years</th>\n",
       "      <td>-0.0265</td>\n",
       "    </tr>\n",
       "    <tr>\n",
       "      <th>Income composition of resources</th>\n",
       "      <td>5.7370</td>\n",
       "    </tr>\n",
       "    <tr>\n",
       "      <th>Schooling</th>\n",
       "      <td>0.6857</td>\n",
       "    </tr>\n",
       "    <tr>\n",
       "      <th>Status_Developing</th>\n",
       "      <td>-1.4844</td>\n",
       "    </tr>\n",
       "  </tbody>\n",
       "</table>\n",
       "</div>"
      ],
      "text/plain": [
       "                                      0\n",
       "Year                            -0.0168\n",
       "Adult Mortality                 -0.0193\n",
       "infant deaths                    0.1070\n",
       "Alcohol                          0.0556\n",
       "percentage expenditure           0.0000\n",
       "Hepatitis B                     -0.0096\n",
       "Measles                         -0.0000\n",
       "BMI                              0.0391\n",
       "under-five deaths               -0.0810\n",
       "Polio                            0.0250\n",
       "Total expenditure                0.1062\n",
       "Diphtheria                       0.0377\n",
       "HIV/AIDS                        -0.4789\n",
       "GDP                              0.0000\n",
       "Population                       0.0000\n",
       "thinness  1-19 years            -0.0498\n",
       "thinness 5-9 years              -0.0265\n",
       "Income composition of resources  5.7370\n",
       "Schooling                        0.6857\n",
       "Status_Developing               -1.4844"
      ]
     },
     "execution_count": 27,
     "metadata": {},
     "output_type": "execute_result"
    }
   ],
   "source": [
    "## show coefs again\n",
    "\n",
    "coefs"
   ]
  },
  {
   "cell_type": "code",
   "execution_count": 28,
   "id": "87395f62-8938-4671-90bc-829ffa96a141",
   "metadata": {},
   "outputs": [
    {
     "data": {
      "text/html": [
       "<div>\n",
       "<style scoped>\n",
       "    .dataframe tbody tr th:only-of-type {\n",
       "        vertical-align: middle;\n",
       "    }\n",
       "\n",
       "    .dataframe tbody tr th {\n",
       "        vertical-align: top;\n",
       "    }\n",
       "\n",
       "    .dataframe thead th {\n",
       "        text-align: right;\n",
       "    }\n",
       "</style>\n",
       "<table border=\"1\" class=\"dataframe\">\n",
       "  <thead>\n",
       "    <tr style=\"text-align: right;\">\n",
       "      <th></th>\n",
       "      <th>Year</th>\n",
       "      <th>Adult Mortality</th>\n",
       "      <th>infant deaths</th>\n",
       "      <th>Alcohol</th>\n",
       "      <th>percentage expenditure</th>\n",
       "      <th>Hepatitis B</th>\n",
       "      <th>Measles</th>\n",
       "      <th>BMI</th>\n",
       "      <th>under-five deaths</th>\n",
       "      <th>Polio</th>\n",
       "      <th>Total expenditure</th>\n",
       "      <th>Diphtheria</th>\n",
       "      <th>HIV/AIDS</th>\n",
       "      <th>GDP</th>\n",
       "      <th>Population</th>\n",
       "      <th>thinness  1-19 years</th>\n",
       "      <th>thinness 5-9 years</th>\n",
       "      <th>Income composition of resources</th>\n",
       "      <th>Schooling</th>\n",
       "      <th>Status_Developing</th>\n",
       "    </tr>\n",
       "  </thead>\n",
       "  <tbody>\n",
       "    <tr>\n",
       "      <th>count</th>\n",
       "      <td>2,196.0000</td>\n",
       "      <td>2,196.0000</td>\n",
       "      <td>2,196.0000</td>\n",
       "      <td>2,196.0000</td>\n",
       "      <td>2,196.0000</td>\n",
       "      <td>2,196.0000</td>\n",
       "      <td>2,196.0000</td>\n",
       "      <td>2,196.0000</td>\n",
       "      <td>2,196.0000</td>\n",
       "      <td>2,196.0000</td>\n",
       "      <td>2,196.0000</td>\n",
       "      <td>2,196.0000</td>\n",
       "      <td>2,196.0000</td>\n",
       "      <td>2,196.0000</td>\n",
       "      <td>2,196.0000</td>\n",
       "      <td>2,196.0000</td>\n",
       "      <td>2,196.0000</td>\n",
       "      <td>2,196.0000</td>\n",
       "      <td>2,196.0000</td>\n",
       "      <td>2,196.0000</td>\n",
       "    </tr>\n",
       "    <tr>\n",
       "      <th>mean</th>\n",
       "      <td>2,007.4750</td>\n",
       "      <td>165.0396</td>\n",
       "      <td>28.1434</td>\n",
       "      <td>4.5801</td>\n",
       "      <td>769.9936</td>\n",
       "      <td>81.4389</td>\n",
       "      <td>2,278.1220</td>\n",
       "      <td>38.1130</td>\n",
       "      <td>39.0009</td>\n",
       "      <td>82.4908</td>\n",
       "      <td>5.9320</td>\n",
       "      <td>82.4519</td>\n",
       "      <td>1.7444</td>\n",
       "      <td>7,619.0888</td>\n",
       "      <td>11,067,208.8431</td>\n",
       "      <td>4.8116</td>\n",
       "      <td>4.8195</td>\n",
       "      <td>0.6283</td>\n",
       "      <td>11.9737</td>\n",
       "      <td>0.8297</td>\n",
       "    </tr>\n",
       "    <tr>\n",
       "      <th>std</th>\n",
       "      <td>4.6191</td>\n",
       "      <td>123.9591</td>\n",
       "      <td>100.4216</td>\n",
       "      <td>3.9002</td>\n",
       "      <td>2,063.2046</td>\n",
       "      <td>21.9922</td>\n",
       "      <td>10,238.0525</td>\n",
       "      <td>19.8175</td>\n",
       "      <td>136.4864</td>\n",
       "      <td>23.5057</td>\n",
       "      <td>2.3853</td>\n",
       "      <td>23.6100</td>\n",
       "      <td>5.0562</td>\n",
       "      <td>13,363.7316</td>\n",
       "      <td>34,465,727.0089</td>\n",
       "      <td>4.2814</td>\n",
       "      <td>4.3318</td>\n",
       "      <td>0.2038</td>\n",
       "      <td>3.2709</td>\n",
       "      <td>0.3760</td>\n",
       "    </tr>\n",
       "    <tr>\n",
       "      <th>min</th>\n",
       "      <td>2,000.0000</td>\n",
       "      <td>1.0000</td>\n",
       "      <td>0.0000</td>\n",
       "      <td>0.0100</td>\n",
       "      <td>0.0000</td>\n",
       "      <td>1.0000</td>\n",
       "      <td>0.0000</td>\n",
       "      <td>1.4000</td>\n",
       "      <td>0.0000</td>\n",
       "      <td>3.0000</td>\n",
       "      <td>0.6500</td>\n",
       "      <td>2.0000</td>\n",
       "      <td>0.1000</td>\n",
       "      <td>3.6859</td>\n",
       "      <td>34.0000</td>\n",
       "      <td>0.1000</td>\n",
       "      <td>0.1000</td>\n",
       "      <td>0.0000</td>\n",
       "      <td>0.0000</td>\n",
       "      <td>0.0000</td>\n",
       "    </tr>\n",
       "    <tr>\n",
       "      <th>25%</th>\n",
       "      <td>2,003.0000</td>\n",
       "      <td>73.0000</td>\n",
       "      <td>0.0000</td>\n",
       "      <td>1.1175</td>\n",
       "      <td>4.8540</td>\n",
       "      <td>81.4389</td>\n",
       "      <td>0.0000</td>\n",
       "      <td>19.4000</td>\n",
       "      <td>0.0000</td>\n",
       "      <td>78.0000</td>\n",
       "      <td>4.3875</td>\n",
       "      <td>78.7500</td>\n",
       "      <td>0.1000</td>\n",
       "      <td>566.2778</td>\n",
       "      <td>434,415.0000</td>\n",
       "      <td>1.6000</td>\n",
       "      <td>1.6000</td>\n",
       "      <td>0.5040</td>\n",
       "      <td>10.2000</td>\n",
       "      <td>1.0000</td>\n",
       "    </tr>\n",
       "    <tr>\n",
       "      <th>50%</th>\n",
       "      <td>2,007.0000</td>\n",
       "      <td>144.0000</td>\n",
       "      <td>3.0000</td>\n",
       "      <td>4.1400</td>\n",
       "      <td>67.4903</td>\n",
       "      <td>87.5000</td>\n",
       "      <td>18.0000</td>\n",
       "      <td>43.0000</td>\n",
       "      <td>4.0000</td>\n",
       "      <td>93.0000</td>\n",
       "      <td>5.9300</td>\n",
       "      <td>93.0000</td>\n",
       "      <td>0.1000</td>\n",
       "      <td>3,184.7557</td>\n",
       "      <td>3,776,092.5000</td>\n",
       "      <td>3.4000</td>\n",
       "      <td>3.4000</td>\n",
       "      <td>0.6610</td>\n",
       "      <td>12.1000</td>\n",
       "      <td>1.0000</td>\n",
       "    </tr>\n",
       "    <tr>\n",
       "      <th>75%</th>\n",
       "      <td>2,011.0000</td>\n",
       "      <td>228.2500</td>\n",
       "      <td>23.0000</td>\n",
       "      <td>7.3800</td>\n",
       "      <td>464.7255</td>\n",
       "      <td>96.0000</td>\n",
       "      <td>376.0000</td>\n",
       "      <td>55.9250</td>\n",
       "      <td>30.0000</td>\n",
       "      <td>97.0000</td>\n",
       "      <td>7.2825</td>\n",
       "      <td>97.0000</td>\n",
       "      <td>0.8000</td>\n",
       "      <td>7,619.0888</td>\n",
       "      <td>11,067,208.8431</td>\n",
       "      <td>7.1000</td>\n",
       "      <td>7.1000</td>\n",
       "      <td>0.7730</td>\n",
       "      <td>14.1000</td>\n",
       "      <td>1.0000</td>\n",
       "    </tr>\n",
       "    <tr>\n",
       "      <th>max</th>\n",
       "      <td>2,015.0000</td>\n",
       "      <td>723.0000</td>\n",
       "      <td>1,800.0000</td>\n",
       "      <td>17.8700</td>\n",
       "      <td>19,479.9116</td>\n",
       "      <td>99.0000</td>\n",
       "      <td>168,107.0000</td>\n",
       "      <td>77.1000</td>\n",
       "      <td>2,400.0000</td>\n",
       "      <td>99.0000</td>\n",
       "      <td>17.6000</td>\n",
       "      <td>99.0000</td>\n",
       "      <td>50.6000</td>\n",
       "      <td>119,172.7418</td>\n",
       "      <td>1,179,681,239.0000</td>\n",
       "      <td>27.5000</td>\n",
       "      <td>28.5000</td>\n",
       "      <td>0.9480</td>\n",
       "      <td>20.7000</td>\n",
       "      <td>1.0000</td>\n",
       "    </tr>\n",
       "  </tbody>\n",
       "</table>\n",
       "</div>"
      ],
      "text/plain": [
       "            Year  Adult Mortality  infant deaths  ...  Income composition of resources  Schooling  Status_Developing\n",
       "count 2,196.0000       2,196.0000     2,196.0000  ...                       2,196.0000 2,196.0000         2,196.0000\n",
       "mean  2,007.4750         165.0396        28.1434  ...                           0.6283    11.9737             0.8297\n",
       "std       4.6191         123.9591       100.4216  ...                           0.2038     3.2709             0.3760\n",
       "min   2,000.0000           1.0000         0.0000  ...                           0.0000     0.0000             0.0000\n",
       "25%   2,003.0000          73.0000         0.0000  ...                           0.5040    10.2000             1.0000\n",
       "50%   2,007.0000         144.0000         3.0000  ...                           0.6610    12.1000             1.0000\n",
       "75%   2,011.0000         228.2500        23.0000  ...                           0.7730    14.1000             1.0000\n",
       "max   2,015.0000         723.0000     1,800.0000  ...                           0.9480    20.7000             1.0000\n",
       "\n",
       "[8 rows x 20 columns]"
      ]
     },
     "execution_count": 28,
     "metadata": {},
     "output_type": "execute_result"
    }
   ],
   "source": [
    "X_train_proc.describe()"
   ]
  },
  {
   "cell_type": "code",
   "execution_count": 34,
   "id": "74c07d8d",
   "metadata": {
    "ExecuteTime": {
     "end_time": "2023-08-21T19:12:52.192895Z",
     "start_time": "2023-08-21T19:12:52.187908Z"
    }
   },
   "outputs": [],
   "source": [
    "# Define get_coefficients function to extract LinReg coefficients\n",
    "def get_coefs(lin_reg):\n",
    "    coefs = pd.Series(lin_reg.coef_, index=lin_reg.feature_names_in_)\n",
    "    return coefs\n",
    "coefs = get_coefs(lin_reg)"
   ]
  },
  {
   "cell_type": "markdown",
   "id": "fbeee9ca",
   "metadata": {},
   "source": [
    "## Visualizing Coefficients"
   ]
  },
  {
   "cell_type": "code",
   "execution_count": 36,
   "id": "07a3fcfa",
   "metadata": {
    "ExecuteTime": {
     "end_time": "2023-08-21T19:13:32.676381Z",
     "start_time": "2023-08-21T19:13:32.420089Z"
    }
   },
   "outputs": [
    {
     "data": {
      "text/plain": [
       "Text(0.5, 1.0, 'Linear Coefficients')"
      ]
     },
     "execution_count": 36,
     "metadata": {},
     "output_type": "execute_result"
    },
    {
     "data": {
      "image/png": "[encoded data removed]",
      "text/plain": [
       "<Figure size 640x480 with 1 Axes>"
      ]
     },
     "metadata": {},
     "output_type": "display_data"
    }
   ],
   "source": [
    "## Plot Coefficients\n",
    "\n",
    "ax = coefs.sort_values().plot(kind='barh')\n",
    "ax.set_title('Linear Coefficients')"
   ]
  },
  {
   "cell_type": "code",
   "execution_count": 37,
   "id": "2b2984c4",
   "metadata": {
    "ExecuteTime": {
     "end_time": "2023-08-21T19:14:50.507712Z",
     "start_time": "2023-08-21T19:14:50.491754Z"
    }
   },
   "outputs": [],
   "source": [
    "## Function for plotting coefficients\n",
    "\n",
    "def plot_coeffs(coeffs, top_n=None,  figsize=(4,5), intercept=False):\n",
    "    if (intercept==False) & ('intercept' in coeffs.index):\n",
    "        coeffs = coeffs.drop('intercept')\n",
    "        \n",
    "    if top_n==None:\n",
    "        ## sort all features and set title\n",
    "        plot_vals = coeffs.sort_values()\n",
    "        title = \"All Coefficients - Ranked by Magnitude\"\n",
    "    else:\n",
    "        ## rank the coeffs and select the top_n\n",
    "        coeff_rank = coeffs.abs().rank().sort_values(ascending=False)\n",
    "        top_n_features = coeff_rank.head(top_n)\n",
    "        plot_vals = coeffs.loc[top_n_features.index].sort_values()\n",
    "        ## sort features and keep top_n and set title\n",
    "        title = f\"Top {top_n} Largest Coefficients\"\n",
    "        \n",
    "    ## plotting top N importances\n",
    "    ax = plot_vals.plot(kind='barh', figsize=figsize)\n",
    "    ax.set(xlabel='Coefficient', \n",
    "           ylabel='Feature Names', \n",
    "           title=title)\n",
    "    ax.axvline(0, color='k')\n",
    "    \n",
    "    ## return ax in case want to continue to update/modify figure\n",
    "    return ax\n",
    "\n",
    "def annotate_hbars(ax, ha='left', va='center', size=12, xytext=(4,0),\n",
    "                  textcoords='offset points'):\n",
    "    for bar in ax.patches:\n",
    "    \n",
    "        ## calculate center of bar\n",
    "        bar_ax = bar.get_y() + bar.get_height() / 2\n",
    "        ## get the value to annotate\n",
    "        val = bar.get_width()\n",
    "        if val < 0:\n",
    "            val_pos = 0\n",
    "        else:\n",
    "            val_pos = val\n",
    "        # ha and va stand for the horizontal and vertical alignment\n",
    "        ax.annotate(f\"{val:.3f}\", (val_pos,bar_ax), ha=ha, va=va, size=size,\n",
    "                        xytext=xytext, textcoords=textcoords)"
   ]
  },
  {
   "cell_type": "code",
   "execution_count": 40,
   "id": "02f48ee9-f926-41eb-b304-db19a029eb0e",
   "metadata": {},
   "outputs": [
    {
     "data": {
      "image/png": "[encoded data removed]",
      "text/plain": [
       "<Figure size 400x500 with 1 Axes>"
      ]
     },
     "metadata": {},
     "output_type": "display_data"
    }
   ],
   "source": [
    "ax = plot_coeffs(coefs)\n",
    "annotate_hbars(ax)"
   ]
  },
  {
   "cell_type": "markdown",
   "id": "74d86f33",
   "metadata": {},
   "source": [
    "> ***Q1: What do we notice about our coefficients? Is there anything odd that would be difficult to a stakeholder?***\n",
    "\n",
    "> ***Q2: What does that intercept represent?***\n",
    "\n",
    "> ***Q3: What would it mean if we did not use an intercept? (fit_intercept=False)***"
   ]
  },
  {
   "cell_type": "markdown",
   "id": "2c003980",
   "metadata": {},
   "source": [
    "# Understanding Coefficients"
   ]
  },
  {
   "cell_type": "code",
   "execution_count": 41,
   "id": "96be25ee-32ef-4a70-a0a3-620a4b7e57c0",
   "metadata": {},
   "outputs": [
    {
     "data": {
      "text/html": [
       "<div>\n",
       "<style scoped>\n",
       "    .dataframe tbody tr th:only-of-type {\n",
       "        vertical-align: middle;\n",
       "    }\n",
       "\n",
       "    .dataframe tbody tr th {\n",
       "        vertical-align: top;\n",
       "    }\n",
       "\n",
       "    .dataframe thead th {\n",
       "        text-align: right;\n",
       "    }\n",
       "</style>\n",
       "<table border=\"1\" class=\"dataframe\">\n",
       "  <thead>\n",
       "    <tr style=\"text-align: right;\">\n",
       "      <th></th>\n",
       "      <th>Year</th>\n",
       "      <th>Adult Mortality</th>\n",
       "      <th>infant deaths</th>\n",
       "      <th>Alcohol</th>\n",
       "      <th>percentage expenditure</th>\n",
       "      <th>Hepatitis B</th>\n",
       "      <th>Measles</th>\n",
       "      <th>BMI</th>\n",
       "      <th>under-five deaths</th>\n",
       "      <th>Polio</th>\n",
       "      <th>Total expenditure</th>\n",
       "      <th>Diphtheria</th>\n",
       "      <th>HIV/AIDS</th>\n",
       "      <th>GDP</th>\n",
       "      <th>Population</th>\n",
       "      <th>thinness  1-19 years</th>\n",
       "      <th>thinness 5-9 years</th>\n",
       "      <th>Income composition of resources</th>\n",
       "      <th>Schooling</th>\n",
       "    </tr>\n",
       "  </thead>\n",
       "  <tbody>\n",
       "    <tr>\n",
       "      <th>count</th>\n",
       "      <td>2,196.0000</td>\n",
       "      <td>2,196.0000</td>\n",
       "      <td>2,196.0000</td>\n",
       "      <td>2,050.0000</td>\n",
       "      <td>2,196.0000</td>\n",
       "      <td>1,793.0000</td>\n",
       "      <td>2,196.0000</td>\n",
       "      <td>2,170.0000</td>\n",
       "      <td>2,196.0000</td>\n",
       "      <td>2,182.0000</td>\n",
       "      <td>2,028.0000</td>\n",
       "      <td>2,182.0000</td>\n",
       "      <td>2,196.0000</td>\n",
       "      <td>1,860.0000</td>\n",
       "      <td>1,707.0000</td>\n",
       "      <td>2,170.0000</td>\n",
       "      <td>2,170.0000</td>\n",
       "      <td>2,077.0000</td>\n",
       "      <td>2,077.0000</td>\n",
       "    </tr>\n",
       "    <tr>\n",
       "      <th>mean</th>\n",
       "      <td>2,007.4750</td>\n",
       "      <td>165.0396</td>\n",
       "      <td>28.1434</td>\n",
       "      <td>4.5801</td>\n",
       "      <td>769.9936</td>\n",
       "      <td>81.4389</td>\n",
       "      <td>2,278.1220</td>\n",
       "      <td>38.1130</td>\n",
       "      <td>39.0009</td>\n",
       "      <td>82.4908</td>\n",
       "      <td>5.9320</td>\n",
       "      <td>82.4519</td>\n",
       "      <td>1.7444</td>\n",
       "      <td>7,619.0888</td>\n",
       "      <td>11,067,208.8431</td>\n",
       "      <td>4.8116</td>\n",
       "      <td>4.8195</td>\n",
       "      <td>0.6283</td>\n",
       "      <td>11.9737</td>\n",
       "    </tr>\n",
       "    <tr>\n",
       "      <th>std</th>\n",
       "      <td>4.6191</td>\n",
       "      <td>123.9591</td>\n",
       "      <td>100.4216</td>\n",
       "      <td>4.0368</td>\n",
       "      <td>2,063.2046</td>\n",
       "      <td>24.3398</td>\n",
       "      <td>10,238.0525</td>\n",
       "      <td>19.9359</td>\n",
       "      <td>136.4864</td>\n",
       "      <td>23.5810</td>\n",
       "      <td>2.4822</td>\n",
       "      <td>23.6857</td>\n",
       "      <td>5.0562</td>\n",
       "      <td>14,521.2938</td>\n",
       "      <td>39,094,457.6540</td>\n",
       "      <td>4.3070</td>\n",
       "      <td>4.3577</td>\n",
       "      <td>0.2096</td>\n",
       "      <td>3.3633</td>\n",
       "    </tr>\n",
       "    <tr>\n",
       "      <th>min</th>\n",
       "      <td>2,000.0000</td>\n",
       "      <td>1.0000</td>\n",
       "      <td>0.0000</td>\n",
       "      <td>0.0100</td>\n",
       "      <td>0.0000</td>\n",
       "      <td>1.0000</td>\n",
       "      <td>0.0000</td>\n",
       "      <td>1.4000</td>\n",
       "      <td>0.0000</td>\n",
       "      <td>3.0000</td>\n",
       "      <td>0.6500</td>\n",
       "      <td>2.0000</td>\n",
       "      <td>0.1000</td>\n",
       "      <td>3.6859</td>\n",
       "      <td>34.0000</td>\n",
       "      <td>0.1000</td>\n",
       "      <td>0.1000</td>\n",
       "      <td>0.0000</td>\n",
       "      <td>0.0000</td>\n",
       "    </tr>\n",
       "    <tr>\n",
       "      <th>25%</th>\n",
       "      <td>2,003.0000</td>\n",
       "      <td>73.0000</td>\n",
       "      <td>0.0000</td>\n",
       "      <td>0.9100</td>\n",
       "      <td>4.8540</td>\n",
       "      <td>77.0000</td>\n",
       "      <td>0.0000</td>\n",
       "      <td>19.3000</td>\n",
       "      <td>0.0000</td>\n",
       "      <td>78.0000</td>\n",
       "      <td>4.2700</td>\n",
       "      <td>78.0000</td>\n",
       "      <td>0.1000</td>\n",
       "      <td>462.0432</td>\n",
       "      <td>216,173.0000</td>\n",
       "      <td>1.6000</td>\n",
       "      <td>1.5000</td>\n",
       "      <td>0.4940</td>\n",
       "      <td>10.0000</td>\n",
       "    </tr>\n",
       "    <tr>\n",
       "      <th>50%</th>\n",
       "      <td>2,007.0000</td>\n",
       "      <td>144.0000</td>\n",
       "      <td>3.0000</td>\n",
       "      <td>3.6900</td>\n",
       "      <td>67.4903</td>\n",
       "      <td>92.0000</td>\n",
       "      <td>18.0000</td>\n",
       "      <td>43.5000</td>\n",
       "      <td>4.0000</td>\n",
       "      <td>93.0000</td>\n",
       "      <td>5.7250</td>\n",
       "      <td>93.0000</td>\n",
       "      <td>0.1000</td>\n",
       "      <td>1,813.8889</td>\n",
       "      <td>1,384,969.0000</td>\n",
       "      <td>3.4000</td>\n",
       "      <td>3.4000</td>\n",
       "      <td>0.6760</td>\n",
       "      <td>12.3000</td>\n",
       "    </tr>\n",
       "    <tr>\n",
       "      <th>75%</th>\n",
       "      <td>2,011.0000</td>\n",
       "      <td>228.2500</td>\n",
       "      <td>23.0000</td>\n",
       "      <td>7.6375</td>\n",
       "      <td>464.7255</td>\n",
       "      <td>97.0000</td>\n",
       "      <td>376.0000</td>\n",
       "      <td>56.0750</td>\n",
       "      <td>30.0000</td>\n",
       "      <td>97.0000</td>\n",
       "      <td>7.4700</td>\n",
       "      <td>97.0000</td>\n",
       "      <td>0.8000</td>\n",
       "      <td>6,231.3770</td>\n",
       "      <td>7,494,541.5000</td>\n",
       "      <td>7.2000</td>\n",
       "      <td>7.2000</td>\n",
       "      <td>0.7810</td>\n",
       "      <td>14.2000</td>\n",
       "    </tr>\n",
       "    <tr>\n",
       "      <th>max</th>\n",
       "      <td>2,015.0000</td>\n",
       "      <td>723.0000</td>\n",
       "      <td>1,800.0000</td>\n",
       "      <td>17.8700</td>\n",
       "      <td>19,479.9116</td>\n",
       "      <td>99.0000</td>\n",
       "      <td>168,107.0000</td>\n",
       "      <td>77.1000</td>\n",
       "      <td>2,400.0000</td>\n",
       "      <td>99.0000</td>\n",
       "      <td>17.6000</td>\n",
       "      <td>99.0000</td>\n",
       "      <td>50.6000</td>\n",
       "      <td>119,172.7418</td>\n",
       "      <td>1,179,681,239.0000</td>\n",
       "      <td>27.5000</td>\n",
       "      <td>28.5000</td>\n",
       "      <td>0.9480</td>\n",
       "      <td>20.7000</td>\n",
       "    </tr>\n",
       "  </tbody>\n",
       "</table>\n",
       "</div>"
      ],
      "text/plain": [
       "            Year  Adult Mortality  infant deaths  ...  thinness 5-9 years  Income composition of resources  Schooling\n",
       "count 2,196.0000       2,196.0000     2,196.0000  ...          2,170.0000                       2,077.0000 2,077.0000\n",
       "mean  2,007.4750         165.0396        28.1434  ...              4.8195                           0.6283    11.9737\n",
       "std       4.6191         123.9591       100.4216  ...              4.3577                           0.2096     3.3633\n",
       "min   2,000.0000           1.0000         0.0000  ...              0.1000                           0.0000     0.0000\n",
       "25%   2,003.0000          73.0000         0.0000  ...              1.5000                           0.4940    10.0000\n",
       "50%   2,007.0000         144.0000         3.0000  ...              3.4000                           0.6760    12.3000\n",
       "75%   2,011.0000         228.2500        23.0000  ...              7.2000                           0.7810    14.2000\n",
       "max   2,015.0000         723.0000     1,800.0000  ...             28.5000                           0.9480    20.7000\n",
       "\n",
       "[8 rows x 19 columns]"
      ]
     },
     "execution_count": 41,
     "metadata": {},
     "output_type": "execute_result"
    }
   ],
   "source": [
    "X_train.describe()"
   ]
  },
  {
   "cell_type": "code",
   "execution_count": 44,
   "id": "24383041-ad56-4fe7-8420-be1ace0f2329",
   "metadata": {},
   "outputs": [
    {
     "data": {
      "text/plain": [
       "Year                                2,010.0000\n",
       "Adult Mortality                       359.0000\n",
       "infant deaths                          27.0000\n",
       "Alcohol                                 4.5801\n",
       "percentage expenditure                  0.0000\n",
       "Hepatitis B                            81.4389\n",
       "Measles                                 0.0000\n",
       "BMI                                    38.1130\n",
       "under-five deaths                      41.0000\n",
       "Polio                                  82.4908\n",
       "Total expenditure                       5.9320\n",
       "Diphtheria                             82.4519\n",
       "HIV/AIDS                                4.0000\n",
       "GDP                                 1,562.2393\n",
       "Population                        167,192.0000\n",
       "thinness  1-19 years                    4.8116\n",
       "thinness 5-9 years                      4.8195\n",
       "Income composition of resources         0.0000\n",
       "Schooling                               0.0000\n",
       "Status_Developing                       1.0000\n",
       "Name: 2414, dtype: float64"
      ]
     },
     "execution_count": 44,
     "metadata": {},
     "output_type": "execute_result"
    }
   ],
   "source": [
    "row = X_train_proc.iloc[0]\n",
    "row"
   ]
  },
  {
   "cell_type": "code",
   "execution_count": 45,
   "id": "703f4d33-2bb5-4bc8-ba2a-09182d536d7a",
   "metadata": {},
   "outputs": [
    {
     "data": {
      "text/plain": [
       "Year                              -33.6817\n",
       "Adult Mortality                    -6.9439\n",
       "infant deaths                       2.8896\n",
       "Alcohol                             0.2546\n",
       "percentage expenditure              0.0000\n",
       "Hepatitis B                        -0.7806\n",
       "Measles                            -0.0000\n",
       "BMI                                 1.4888\n",
       "under-five deaths                  -3.3228\n",
       "Polio                               2.0634\n",
       "Total expenditure                   0.6301\n",
       "Diphtheria                          3.1044\n",
       "HIV/AIDS                           -1.9156\n",
       "GDP                                 0.0695\n",
       "Population                          0.0007\n",
       "thinness  1-19 years               -0.2394\n",
       "thinness 5-9 years                 -0.1279\n",
       "Income composition of resources     0.0000\n",
       "Schooling                           0.0000\n",
       "Status_Developing                  -1.4844\n",
       "dtype: float64"
      ]
     },
     "execution_count": 45,
     "metadata": {},
     "output_type": "execute_result"
    }
   ],
   "source": [
    "row * coefs"
   ]
  },
  {
   "cell_type": "code",
   "execution_count": 55,
   "id": "46e76efe-87f3-4af5-8c11-ad591c70f9cf",
   "metadata": {},
   "outputs": [
    {
     "data": {
      "text/plain": [
       "51.697641937575746"
      ]
     },
     "execution_count": 55,
     "metadata": {},
     "output_type": "execute_result"
    }
   ],
   "source": [
    "lin_reg.predict(X_train_proc)[0]"
   ]
  },
  {
   "cell_type": "code",
   "execution_count": null,
   "id": "6e561adc",
   "metadata": {
    "ExecuteTime": {
     "end_time": "2023-08-21T19:15:04.191286Z",
     "start_time": "2023-08-21T19:15:03.955744Z"
    }
   },
   "outputs": [],
   "source": [
    "## Display Coefficients\n",
    "\n",
    "## Plot sorted Coefficients\n",
    "\n"
   ]
  },
  {
   "cell_type": "markdown",
   "id": "9b534b3f",
   "metadata": {},
   "source": [
    "Why does the GDP per Capita seem to have no effect on Life Expectancy predictions?"
   ]
  },
  {
   "cell_type": "code",
   "execution_count": null,
   "id": "648bd1c9-1b07-464b-849f-48e00037df1a",
   "metadata": {},
   "outputs": [],
   "source": [
    "## Check Stats for ranges and scales\n"
   ]
  },
  {
   "cell_type": "code",
   "execution_count": null,
   "id": "5113fe4e",
   "metadata": {
    "ExecuteTime": {
     "end_time": "2023-08-21T19:15:19.509185Z",
     "start_time": "2023-08-21T19:15:19.500208Z"
    }
   },
   "outputs": [],
   "source": [
    "# Median GDP\n",
    "\n"
   ]
  },
  {
   "cell_type": "markdown",
   "id": "31370cab",
   "metadata": {},
   "source": [
    "The median GDP per Capita in the dataset is $3,184 US."
   ]
  },
  {
   "cell_type": "code",
   "execution_count": null,
   "id": "0eb11ca3",
   "metadata": {
    "ExecuteTime": {
     "end_time": "2023-08-21T19:15:23.105605Z",
     "start_time": "2023-08-21T19:15:23.091643Z"
    }
   },
   "outputs": [],
   "source": [
    "# GDP Coefficient\n",
    "\n"
   ]
  },
  {
   "cell_type": "markdown",
   "id": "7f704b78",
   "metadata": {},
   "source": [
    "GDP per Capita adds 1 year of life for every 44,500 US Dollars of GDP per Capita to the model predictions.  "
   ]
  },
  {
   "cell_type": "code",
   "execution_count": null,
   "id": "85d3eb33",
   "metadata": {
    "ExecuteTime": {
     "end_time": "2023-08-21T19:15:43.523485Z",
     "start_time": "2023-08-21T19:15:43.516532Z"
    }
   },
   "outputs": [],
   "source": [
    "## Effect of median GDP on target\n",
    "\n"
   ]
  },
  {
   "cell_type": "markdown",
   "id": "3e9fcd63",
   "metadata": {},
   "source": [
    "Countries with the median average GDP per Capita are predicted to add about 2 months of life from this feature."
   ]
  },
  {
   "cell_type": "code",
   "execution_count": null,
   "id": "fddd23d6",
   "metadata": {
    "ExecuteTime": {
     "end_time": "2023-08-21T19:15:46.189216Z",
     "start_time": "2023-08-21T19:15:46.179214Z"
    }
   },
   "outputs": [],
   "source": [
    "## Max GDP\n",
    "\n"
   ]
  },
  {
   "cell_type": "code",
   "execution_count": null,
   "id": "aa67f80d",
   "metadata": {
    "ExecuteTime": {
     "end_time": "2023-08-21T19:15:46.640683Z",
     "start_time": "2023-08-21T19:15:46.635697Z"
    }
   },
   "outputs": [],
   "source": [
    "# Effect: Max GDP times coefficient\n",
    "\n"
   ]
  },
  {
   "cell_type": "markdown",
   "id": "d6136cd0",
   "metadata": {},
   "source": [
    "The country with the highest GDP per Capita adds 5 years to life expectancy with this feature."
   ]
  },
  {
   "cell_type": "code",
   "execution_count": null,
   "id": "82363e38",
   "metadata": {
    "ExecuteTime": {
     "end_time": "2023-08-21T19:15:52.943630Z",
     "start_time": "2023-08-21T19:15:52.900425Z"
    }
   },
   "outputs": [],
   "source": [
    "# What country is that?\n",
    "\n",
    "\n"
   ]
  },
  {
   "cell_type": "markdown",
   "id": "9373cbf6",
   "metadata": {},
   "source": [
    "## Feature Importance\n",
    "\n",
    "**Feature importance does <span style=\"color:red\"> NOT </span> describe the relationship between features targets.**\n",
    "\n",
    "**It only describes what the model is focusing on to make its predictions.**\n",
    "\n",
    "**Think of the results as percentage weights on the features for how important they are.**"
   ]
  },
  {
   "cell_type": "code",
   "execution_count": 56,
   "id": "d0d79dde",
   "metadata": {
    "ExecuteTime": {
     "end_time": "2023-08-21T18:49:28.436335Z",
     "start_time": "2023-08-21T18:49:28.429717Z"
    }
   },
   "outputs": [],
   "source": [
    "from sklearn.ensemble import RandomForestRegressor"
   ]
  },
  {
   "cell_type": "code",
   "execution_count": 57,
   "id": "7a1b02eb",
   "metadata": {
    "ExecuteTime": {
     "end_time": "2023-08-21T19:16:39.642784Z",
     "start_time": "2023-08-21T19:16:36.908400Z"
    }
   },
   "outputs": [
    {
     "data": {
      "text/html": [
       "<style type=\"text/css\">\n",
       "</style>\n",
       "<table id=\"T_0b98f\">\n",
       "  <thead>\n",
       "    <tr>\n",
       "      <th id=\"T_0b98f_level0_col0\" class=\"col_heading level0 col0\" >Split</th>\n",
       "      <th id=\"T_0b98f_level0_col1\" class=\"col_heading level0 col1\" >R^2</th>\n",
       "      <th id=\"T_0b98f_level0_col2\" class=\"col_heading level0 col2\" >MAE</th>\n",
       "      <th id=\"T_0b98f_level0_col3\" class=\"col_heading level0 col3\" >RMSE</th>\n",
       "    </tr>\n",
       "  </thead>\n",
       "  <tbody>\n",
       "    <tr>\n",
       "      <td id=\"T_0b98f_row0_col0\" class=\"data row0 col0\" >Train</td>\n",
       "      <td id=\"T_0b98f_row0_col1\" class=\"data row0 col1\" >0.99</td>\n",
       "      <td id=\"T_0b98f_row0_col2\" class=\"data row0 col2\" >0.45</td>\n",
       "      <td id=\"T_0b98f_row0_col3\" class=\"data row0 col3\" >0.71</td>\n",
       "    </tr>\n",
       "    <tr>\n",
       "      <td id=\"T_0b98f_row1_col0\" class=\"data row1 col0\" >Test</td>\n",
       "      <td id=\"T_0b98f_row1_col1\" class=\"data row1 col1\" >0.97</td>\n",
       "      <td id=\"T_0b98f_row1_col2\" class=\"data row1 col2\" >1.11</td>\n",
       "      <td id=\"T_0b98f_row1_col3\" class=\"data row1 col3\" >1.75</td>\n",
       "    </tr>\n",
       "  </tbody>\n",
       "</table>\n"
      ],
      "text/plain": [
       "<pandas.io.formats.style.Styler at 0x28b8f48a8f0>"
      ]
     },
     "metadata": {},
     "output_type": "display_data"
    }
   ],
   "source": [
    "rf_reg = RandomForestRegressor()\n",
    "rf_reg.fit(X_train_proc, y_train)\n",
    "evaluate_regression(rf_reg, X_train_proc, y_train, \n",
    "                    X_test_proc, y_test)"
   ]
  },
  {
   "cell_type": "markdown",
   "id": "418ccf35",
   "metadata": {},
   "source": [
    "> Using the models .feature_names_in_"
   ]
  },
  {
   "cell_type": "code",
   "execution_count": 58,
   "id": "7e0a3f05",
   "metadata": {
    "ExecuteTime": {
     "end_time": "2023-08-21T19:16:42.188775Z",
     "start_time": "2023-08-21T19:16:42.163878Z"
    }
   },
   "outputs": [
    {
     "data": {
      "text/plain": [
       "array([7.59377107e-03, 1.25107062e-01, 6.95404778e-03, 6.54430946e-03,\n",
       "       3.49432581e-03, 2.35094515e-03, 2.81979353e-03, 1.13821960e-02,\n",
       "       1.51174006e-02, 4.01434085e-03, 5.99197446e-03, 4.38458862e-03,\n",
       "       5.99082526e-01, 4.19441035e-03, 3.23707090e-03, 5.93515243e-03,\n",
       "       9.55032142e-03, 1.63588398e-01, 1.85154915e-02, 1.41874917e-04])"
      ]
     },
     "execution_count": 58,
     "metadata": {},
     "output_type": "execute_result"
    }
   ],
   "source": [
    "# Extract Feature Importances\n",
    "rf_reg.feature_importances_\n",
    "\n"
   ]
  },
  {
   "cell_type": "code",
   "execution_count": 59,
   "id": "41adc56a",
   "metadata": {
    "ExecuteTime": {
     "end_time": "2023-08-21T19:16:44.337605Z",
     "start_time": "2023-08-21T19:16:44.323642Z"
    }
   },
   "outputs": [
    {
     "data": {
      "text/plain": [
       "Year                              0.0076\n",
       "Adult Mortality                   0.1251\n",
       "infant deaths                     0.0070\n",
       "Alcohol                           0.0065\n",
       "percentage expenditure            0.0035\n",
       "Hepatitis B                       0.0024\n",
       "Measles                           0.0028\n",
       "BMI                               0.0114\n",
       "under-five deaths                 0.0151\n",
       "Polio                             0.0040\n",
       "Total expenditure                 0.0060\n",
       "Diphtheria                        0.0044\n",
       "HIV/AIDS                          0.5991\n",
       "GDP                               0.0042\n",
       "Population                        0.0032\n",
       "thinness  1-19 years              0.0059\n",
       "thinness 5-9 years                0.0096\n",
       "Income composition of resources   0.1636\n",
       "Schooling                         0.0185\n",
       "Status_Developing                 0.0001\n",
       "dtype: float64"
      ]
     },
     "execution_count": 59,
     "metadata": {},
     "output_type": "execute_result"
    }
   ],
   "source": [
    "# create a function to extract importances\n",
    "importances = pd.Series(rf_reg.feature_importances_, index=rf_reg.feature_names_in_)\n",
    "importances\n"
   ]
  },
  {
   "cell_type": "code",
   "execution_count": 60,
   "id": "d65965b8",
   "metadata": {
    "ExecuteTime": {
     "end_time": "2023-08-21T19:16:45.837636Z",
     "start_time": "2023-08-21T19:16:45.819684Z"
    }
   },
   "outputs": [
    {
     "data": {
      "text/plain": [
       "HIV/AIDS                          0.5991\n",
       "Income composition of resources   0.1636\n",
       "Adult Mortality                   0.1251\n",
       "Schooling                         0.0185\n",
       "under-five deaths                 0.0151\n",
       "BMI                               0.0114\n",
       "thinness 5-9 years                0.0096\n",
       "Year                              0.0076\n",
       "infant deaths                     0.0070\n",
       "Alcohol                           0.0065\n",
       "Total expenditure                 0.0060\n",
       "thinness  1-19 years              0.0059\n",
       "Diphtheria                        0.0044\n",
       "GDP                               0.0042\n",
       "Polio                             0.0040\n",
       "percentage expenditure            0.0035\n",
       "Population                        0.0032\n",
       "Measles                           0.0028\n",
       "Hepatitis B                       0.0024\n",
       "Status_Developing                 0.0001\n",
       "dtype: float64"
      ]
     },
     "execution_count": 60,
     "metadata": {},
     "output_type": "execute_result"
    }
   ],
   "source": [
    "# show importances Series\n",
    "importances.sort_values(ascending=False)\n"
   ]
  },
  {
   "cell_type": "code",
   "execution_count": 64,
   "id": "0d9530a1",
   "metadata": {
    "ExecuteTime": {
     "end_time": "2023-08-21T19:16:48.403155Z",
     "start_time": "2023-08-21T19:16:48.155139Z"
    }
   },
   "outputs": [
    {
     "data": {
      "image/png": "[encoded data removed]",
      "text/plain": [
       "<Figure size 640x480 with 1 Axes>"
      ]
     },
     "metadata": {},
     "output_type": "display_data"
    }
   ],
   "source": [
    "# Plot Importances\n",
    "ax = importances.sort_values().plot(kind='barh')\n",
    "annotate_hbars(ax)\n"
   ]
  },
  {
   "cell_type": "markdown",
   "id": "6c7ad884",
   "metadata": {},
   "source": [
    "> **Q1:** What do these numbers mean?\n",
    "\n",
    "> **Q2:** What are the top 5 most important features?"
   ]
  },
  {
   "cell_type": "markdown",
   "id": "d7f18209",
   "metadata": {},
   "source": [
    "## Using joblib to Save our Model, Data, and Objects"
   ]
  },
  {
   "cell_type": "code",
   "execution_count": null,
   "id": "af9a0bc6",
   "metadata": {
    "ExecuteTime": {
     "end_time": "2023-08-21T19:17:06.487054Z",
     "start_time": "2023-08-21T19:17:06.451550Z"
    }
   },
   "outputs": [],
   "source": [
    "X_train.head()"
   ]
  },
  {
   "cell_type": "code",
   "execution_count": 66,
   "id": "ca1b9a8f",
   "metadata": {
    "ExecuteTime": {
     "end_time": "2023-08-21T19:17:06.856438Z",
     "start_time": "2023-08-21T19:17:06.843446Z"
    }
   },
   "outputs": [],
   "source": [
    "import joblib, os\n",
    "\n",
    "## creating a dictionary of all of the variables to save for later\n",
    "to_save = {'RandomForest':rf_reg,\n",
    "         'LinearRegression':lin_reg,\n",
    "         'X_train':X_train,\n",
    "         'X_test':X_test,\n",
    "         'y_train':y_train,\n",
    "         'y_test':y_test,\n",
    "         'preprocessor':preprocessor}"
   ]
  },
  {
   "cell_type": "code",
   "execution_count": 67,
   "id": "096c3ff6",
   "metadata": {
    "ExecuteTime": {
     "end_time": "2023-08-21T19:17:10.656614Z",
     "start_time": "2023-08-21T19:17:10.651627Z"
    }
   },
   "outputs": [],
   "source": [
    "# Create the folder to save it in\n",
    "folder = 'Models/'\n",
    "os.makedirs(folder, exist_ok=True)\n"
   ]
  },
  {
   "cell_type": "code",
   "execution_count": 70,
   "id": "f8b09d81-9c2d-4ea3-8390-aecb418d64ea",
   "metadata": {},
   "outputs": [
    {
     "data": {
      "text/plain": [
       "'Models/lecture 1 models.joblib'"
      ]
     },
     "execution_count": 70,
     "metadata": {},
     "output_type": "execute_result"
    }
   ],
   "source": [
    "folder + filename"
   ]
  },
  {
   "cell_type": "code",
   "execution_count": 69,
   "id": "192af338",
   "metadata": {
    "ExecuteTime": {
     "end_time": "2023-08-21T19:17:11.641372Z",
     "start_time": "2023-08-21T19:17:11.587655Z"
    }
   },
   "outputs": [
    {
     "data": {
      "text/plain": [
       "['Models/lecture 1 models.joblib']"
      ]
     },
     "execution_count": 69,
     "metadata": {},
     "output_type": "execute_result"
    }
   ],
   "source": [
    "# Save the models, data, and preprocessor\n",
    "filename = 'lecture 1 models.joblib'\n",
    "joblib.dump(to_save, folder + filename)\n",
    "\n"
   ]
  },
  {
   "cell_type": "code",
   "execution_count": 71,
   "id": "d8bd7f5c",
   "metadata": {
    "ExecuteTime": {
     "end_time": "2023-08-21T19:17:12.239061Z",
     "start_time": "2023-08-21T19:17:12.171280Z"
    }
   },
   "outputs": [
    {
     "data": {
      "text/plain": [
       "dict_keys(['RandomForest', 'LinearRegression', 'X_train', 'X_test', 'y_train', 'y_test', 'preprocessor'])"
      ]
     },
     "execution_count": 71,
     "metadata": {},
     "output_type": "execute_result"
    }
   ],
   "source": [
    "# try loading again to make sure it works.\n",
    "saved_stuff = joblib.load(folder + filename)\n",
    "saved_stuff.keys()\n",
    "\n"
   ]
  },
  {
   "cell_type": "markdown",
   "id": "ca53faa7",
   "metadata": {},
   "source": [
    "> We will continue working with this task and these models next class!"
   ]
  },
  {
   "cell_type": "markdown",
   "id": "895d1c9c",
   "metadata": {
    "ExecuteTime": {
     "end_time": "2023-01-13T19:13:59.215605Z",
     "start_time": "2023-01-13T19:13:59.172852Z"
    }
   },
   "source": [
    "# *Teaser* Shap (For Regression)"
   ]
  },
  {
   "cell_type": "code",
   "execution_count": null,
   "id": "2ec89e9d",
   "metadata": {
    "ExecuteTime": {
     "end_time": "2023-08-21T19:17:25.657418Z",
     "start_time": "2023-08-21T19:17:25.171635Z"
    }
   },
   "outputs": [],
   "source": [
    "# Import and init shap\n",
    "import shap\n",
    "shap.initjs()"
   ]
  },
  {
   "cell_type": "markdown",
   "id": "05ed832d",
   "metadata": {},
   "source": [
    "<font color='red'><center>We MUST preprocess the data ahead of time for SHAP</center></font>"
   ]
  },
  {
   "cell_type": "code",
   "execution_count": null,
   "id": "396f1dcc",
   "metadata": {
    "ExecuteTime": {
     "end_time": "2023-08-21T19:17:47.906894Z",
     "start_time": "2023-08-21T19:17:25.796204Z"
    }
   },
   "outputs": [],
   "source": [
    "# Take a sample of the training data\n",
    "X_shap = shap.sample(X_train_proc, nsamples = 500, random_state=SEED)\n",
    "y_shap = y_train.loc[X_shap.index]\n",
    "\n",
    "# Instantiate a Model Explainer with the model\n",
    "explainer = shap.Explainer(rf_reg)\n",
    "\n",
    "## Get shap values form the explainer\n",
    "shap_values = explainer(X_shap,y_shap)"
   ]
  },
  {
   "cell_type": "code",
   "execution_count": null,
   "id": "0a6d21ed",
   "metadata": {
    "ExecuteTime": {
     "end_time": "2023-08-21T19:17:48.434640Z",
     "start_time": "2023-08-21T19:17:47.908201Z"
    }
   },
   "outputs": [],
   "source": [
    "shap.summary_plot(shap_values, features = X_shap)"
   ]
  },
  {
   "cell_type": "code",
   "execution_count": null,
   "id": "9f133eab",
   "metadata": {},
   "outputs": [],
   "source": []
  }
 ],
 "metadata": {
  "kernelspec": {
   "display_name": "Python (dojo-env)",
   "language": "python",
   "name": "dojo-env"
  },
  "language_info": {
   "codemirror_mode": {
    "name": "ipython",
    "version": 3
   },
   "file_extension": ".py",
   "mimetype": "text/x-python",
   "name": "python",
   "nbconvert_exporter": "python",
   "pygments_lexer": "ipython3",
   "version": "3.10.10"
  },
  "toc": {
   "base_numbering": 1,
   "nav_menu": {},
   "number_sections": false,
   "sideBar": true,
   "skip_h1_title": false,
   "title_cell": "Table of Contents",
   "title_sidebar": "Contents",
   "toc_cell": false,
   "toc_position": {
    "height": "calc(100% - 180px)",
    "left": "10px",
    "top": "150px",
    "width": "303.016px"
   },
   "toc_section_display": true,
   "toc_window_display": false
  },
  "widgets": {
   "application/vnd.jupyter.widget-state+json": {
    "state": {},
    "version_major": 2,
    "version_minor": 0
   }
  }
 },
 "nbformat": 4,
 "nbformat_minor": 5
}
