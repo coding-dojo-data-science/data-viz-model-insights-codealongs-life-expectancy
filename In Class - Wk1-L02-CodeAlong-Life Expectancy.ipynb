{
 "cells": [
  {
   "cell_type": "markdown",
   "id": "0eba0efa",
   "metadata": {},
   "source": [
    "# Week 17, Lecture 02: CodeAlong\n"
   ]
  },
  {
   "cell_type": "markdown",
   "id": "d32c1b66",
   "metadata": {},
   "source": [
    "## **Part 2: Explaining Models with Model Explainers**"
   ]
  },
  {
   "cell_type": "markdown",
   "id": "0fc21da5",
   "metadata": {},
   "source": [
    "### Lesson Objectives"
   ]
  },
  {
   "cell_type": "markdown",
   "id": "23a92cad",
   "metadata": {},
   "source": [
    "- By the end of this lesson, students will be able to:\n",
    "    - Load variables and models from a joblib file into a new notebook.\n",
    "    - Apply permutation importance\n",
    "    - Apply shap analysis \n",
    "    - Visualize global and local explanations.\n"
   ]
  },
  {
   "cell_type": "markdown",
   "id": "dc5c874e",
   "metadata": {},
   "source": [
    "### Continuing with Life Expectancy Prediction"
   ]
  },
  {
   "cell_type": "markdown",
   "id": "031af932",
   "metadata": {},
   "source": [
    "**Goal**:  To understand how features of a country affect life expectancy\n",
    "\n",
    "> Task Inspired by: https://medium.com/@shanzehhaji/using-a-linear-regression-model-to-predict-life-expectancy-de3aef66ac21\n",
    "\n",
    "- Kaggle Dataset on Life Expectancy:\n",
    "    - https://www.kaggle.com/datasets/kumarajarshi/life-expectancy-who"
   ]
  },
  {
   "cell_type": "code",
   "execution_count": null,
   "id": "94a13e42",
   "metadata": {
    "ExecuteTime": {
     "end_time": "2023-08-21T18:47:52.169659Z",
     "start_time": "2023-08-21T18:47:52.147628Z"
    }
   },
   "outputs": [],
   "source": [
    "## Our standard imports\n",
    "import pandas as pd\n",
    "import numpy as np\n",
    "import matplotlib.pyplot as plt\n",
    "import seaborn as sns\n",
    "import missingno as miss\n",
    "\n",
    "## Preprocessing tools\n",
    "from sklearn.model_selection import train_test_split\n",
    "from sklearn.compose import make_column_transformer, make_column_selector\n",
    "from sklearn.pipeline import make_pipeline\n",
    "from sklearn.preprocessing import OneHotEncoder, StandardScaler\n",
    "from sklearn.impute import SimpleImputer\n",
    "\n",
    "## Models & evaluation metrics\n",
    "from sklearn import metrics\n",
    "from sklearn.linear_model import LinearRegression\n",
    "from sklearn.tree import DecisionTreeRegressor\n",
    "from sklearn.ensemble import RandomForestRegressor\n",
    "from sklearn import set_config\n",
    "set_config(transform_output = 'pandas')\n",
    "\n",
    "\n",
    "## setting random state for reproducibility\n",
    "SEED = 321\n",
    "np.random.seed(SEED)\n",
    "## Matplotlib style\n",
    "fav_style = ('ggplot','tableau-colorblind10')\n",
    "fav_context  ={'context':'notebook', 'font_scale':1.1}\n",
    "plt.style.use(fav_style)\n",
    "sns.set_context(**fav_context)\n",
    "plt.rcParams['savefig.transparent'] = False\n",
    "plt.rcParams['savefig.bbox'] = 'tight'\n",
    "\n",
    "\n",
    "import joblib, os"
   ]
  },
  {
   "cell_type": "code",
   "execution_count": null,
   "id": "d9919101",
   "metadata": {
    "ExecuteTime": {
     "end_time": "2023-08-21T18:47:53.820859Z",
     "start_time": "2023-08-21T18:47:53.236959Z"
    }
   },
   "outputs": [],
   "source": [
    "## Importing Custom Functions\n",
    "import sys,os\n",
    "# sys.path.append(os.path.abspath(\"../\"))\n",
    "%load_ext autoreload\n",
    "%autoreload 2\n",
    "from CODE import data_enrichment as de"
   ]
  },
  {
   "cell_type": "markdown",
   "id": "892ec81c",
   "metadata": {},
   "source": [
    "### Functionized Code From Part 1"
   ]
  },
  {
   "cell_type": "code",
   "execution_count": null,
   "id": "5e3950a4",
   "metadata": {
    "ExecuteTime": {
     "end_time": "2023-08-21T18:47:56.200685Z",
     "start_time": "2023-08-21T18:47:56.108994Z"
    }
   },
   "outputs": [],
   "source": [
    "def evaluate_regression(model, X_train,y_train, X_test, y_test,for_slides=True): \n",
    "    \"\"\"Evaluates a scikit learn regression model using r-squared and RMSE\n",
    "    FOR SLIDES VERS DOES MULTIPLE PRINT STATEMENTS FOR VERTICAL DISPLAY OF INFO\"\"\"\n",
    "    \n",
    "    ## Training Data\n",
    "    y_pred_train = model.predict(X_train)\n",
    "    r2_train = metrics.r2_score(y_train, y_pred_train)\n",
    "    rmse_train = metrics.mean_squared_error(y_train, y_pred_train, \n",
    "                                            squared=False)\n",
    "    mae_train = metrics.mean_absolute_error(y_train, y_pred_train)\n",
    "    \n",
    "\n",
    "    ## Test Data\n",
    "    y_pred_test = model.predict(X_test)\n",
    "    r2_test = metrics.r2_score(y_test, y_pred_test)\n",
    "    rmse_test = metrics.mean_squared_error(y_test, y_pred_test, \n",
    "                                            squared=False)\n",
    "    mae_test = metrics.mean_absolute_error(y_test, y_pred_test)\n",
    "    \n",
    "    if for_slides:\n",
    "        df_version =[['Split','R^2','MAE','RMSE']]\n",
    "        df_version.append(['Train',r2_train, mae_train, rmse_train])\n",
    "        df_version.append(['Test',r2_test, mae_test, rmse_test])\n",
    "        df_results = pd.DataFrame(df_version[1:], columns=df_version[0])\n",
    "        df_results = df_results.round(2)\n",
    "        display(df_results.style.hide(axis='index').format(precision=2, thousands=','))\n",
    "        \n",
    "    else: \n",
    "        print(f\"Training Data:\\tR^2 = {r2_train:,.2f}\\tRMSE = {rmse_train:,.2f}\\tMAE = {mae_train:,.2f}\")\n",
    "        print(f\"Test Data:\\tR^2 = {r2_test:,.2f}\\tRMSE = {rmse_test:,.2f}\\tMAE = {mae_test:,.2f}\")\n",
    "\n",
    "def get_coefficients(lin_reg):\n",
    "    coeffs = pd.Series(lin_reg.coef_, index= lin_reg.feature_names_in_)\n",
    "    coeffs.loc['intercept'] = lin_reg.intercept_\n",
    "    return coeffs\n",
    "\n",
    "def plot_coefficients(coeffs, sort_values=True, top_n=None, figsize=(6,4),\n",
    "                     title=\"Linear Regression Coefficients\", xlabel='Coefficient'):\n",
    "    \"\"\"Plots a Series of coefficients as horizotal bar chart, with option to sort\n",
    "    and to only keep top_n coefficients\"\"\"\n",
    "        \n",
    "    if top_n is not None:\n",
    "        top_n = coeffs.abs().rank().sort_values(ascending=False).head(top_n)\n",
    "        coeffs = coeffs.loc[top_n.index]\n",
    "        \n",
    "    if sort_values:\n",
    "        coeffs = coeffs.sort_values()\n",
    "\n",
    "        \n",
    "        \n",
    "    ax = coeffs.plot(kind='barh', figsize=figsize)\n",
    "    ax.axvline(0, color='k')\n",
    "    ax.set(xlabel=xlabel, title=title);\n",
    "    plt.show()\n",
    "    return ax\n",
    "\n",
    "\n",
    "def get_importances(rf_reg):\n",
    "    importances = pd.Series(rf_reg.feature_importances_, index= rf_reg.feature_names_in_)\n",
    "    return importances\n",
    "\n",
    "\n",
    "def plot_importances(importances, sort_values=True, top_n=None, figsize=(6,4),\n",
    "                     title=\"Feature Importance\", xlabel='Importance'):\n",
    "    if sort_values:\n",
    "        importances = importances.sort_values()\n",
    "        \n",
    "    if top_n is not None:\n",
    "        importances = importances.tail(top_n)\n",
    "        \n",
    "        \n",
    "    ax = importances.plot(kind='barh', figsize=figsize)\n",
    "    ax.axvline(0, color='k')\n",
    "    ax.set(xlabel=xlabel, title=title);\n",
    "    plt.show()\n",
    "    return ax"
   ]
  },
  {
   "cell_type": "markdown",
   "id": "ace76747",
   "metadata": {},
   "source": [
    "##  🕹️ Loading Objects from a Joblib"
   ]
  },
  {
   "cell_type": "code",
   "execution_count": null,
   "id": "82a652ab",
   "metadata": {
    "ExecuteTime": {
     "end_time": "2023-08-21T18:50:23.539208Z",
     "start_time": "2023-08-21T18:50:23.413438Z"
    }
   },
   "outputs": [],
   "source": [
    "## Load the joblib file stored in the models folder\n",
    "\n",
    "\n",
    "# Preview the contents of the loaded joblib objects\n",
    "\n"
   ]
  },
  {
   "cell_type": "code",
   "execution_count": null,
   "id": "caff7e71",
   "metadata": {
    "ExecuteTime": {
     "end_time": "2023-08-21T19:17:59.321288Z",
     "start_time": "2023-08-21T19:17:59.220507Z"
    }
   },
   "outputs": [],
   "source": [
    "## Saving the loaded objects as separate varaibles\n",
    "\n",
    "## Saving the loaded objects as separate varaibles\n",
    "\n",
    "\n"
   ]
  },
  {
   "cell_type": "markdown",
   "id": "f7f846f6",
   "metadata": {},
   "source": [
    "> Let's evaluate our models to prove they saved correctly."
   ]
  },
  {
   "cell_type": "code",
   "execution_count": null,
   "id": "3fd0c9ac",
   "metadata": {
    "ExecuteTime": {
     "end_time": "2023-08-21T19:18:02.356083Z",
     "start_time": "2023-08-21T19:18:02.227996Z"
    }
   },
   "outputs": [],
   "source": [
    "## Use our evaluate_regression function to evalaute the linear regression\n",
    "\n",
    "\n"
   ]
  },
  {
   "cell_type": "markdown",
   "id": "5224fbba",
   "metadata": {},
   "source": [
    "> ***Q: what happened??***"
   ]
  },
  {
   "cell_type": "markdown",
   "id": "108faa9b",
   "metadata": {},
   "source": [
    "> **Q: What is missing/wrong?**\n",
    "....\n",
    "\n",
    "...\n"
   ]
  },
  {
   "cell_type": "markdown",
   "id": "e4a2a943",
   "metadata": {},
   "source": [
    "### Re-Creating X_train_df & X_test_df"
   ]
  },
  {
   "cell_type": "code",
   "execution_count": null,
   "id": "cbade8af",
   "metadata": {
    "ExecuteTime": {
     "end_time": "2023-08-21T19:18:50.949845Z",
     "start_time": "2023-08-21T19:18:50.851907Z"
    }
   },
   "outputs": [],
   "source": [
    "## Use the preprocessor to transform X_train into X_train_proc\n",
    "\n",
    "\n",
    "\n",
    "## Use the preprocessor to transform X_test into X_test_df \n",
    "\n",
    "\n",
    "\n",
    "\n"
   ]
  },
  {
   "cell_type": "markdown",
   "id": "967787a6",
   "metadata": {},
   "source": [
    "### Evaluating Our LinearRegression"
   ]
  },
  {
   "cell_type": "code",
   "execution_count": null,
   "id": "97280615",
   "metadata": {
    "ExecuteTime": {
     "end_time": "2023-08-21T19:19:03.586700Z",
     "start_time": "2023-08-21T19:19:03.427948Z"
    }
   },
   "outputs": [],
   "source": [
    "## Use our evaluate_regression function to evalaute the linear regression\n",
    "\n"
   ]
  },
  {
   "cell_type": "markdown",
   "id": "90a3d11d",
   "metadata": {},
   "source": [
    "### Evaluating Our Random Forest"
   ]
  },
  {
   "cell_type": "code",
   "execution_count": null,
   "id": "670e5af1",
   "metadata": {
    "ExecuteTime": {
     "end_time": "2023-08-21T19:19:18.586162Z",
     "start_time": "2023-08-21T19:19:18.443479Z"
    }
   },
   "outputs": [],
   "source": [
    "## evaluate the random forest\n",
    "\n"
   ]
  },
  {
   "cell_type": "markdown",
   "id": "bea49fdb",
   "metadata": {},
   "source": [
    "## 🕹️  Permutation Importance"
   ]
  },
  {
   "cell_type": "code",
   "execution_count": null,
   "id": "0b5e3f8f",
   "metadata": {
    "ExecuteTime": {
     "end_time": "2023-08-21T19:19:21.852861Z",
     "start_time": "2023-08-21T19:19:21.771013Z"
    }
   },
   "outputs": [],
   "source": [
    "from sklearn.inspection import permutation_importance"
   ]
  },
  {
   "cell_type": "markdown",
   "id": "eb8cc834",
   "metadata": {},
   "source": [
    "### RandomForest Permutation Importance"
   ]
  },
  {
   "cell_type": "markdown",
   "id": "b85652ce",
   "metadata": {},
   "source": [
    ">  Apply permutation importance to the random forest"
   ]
  },
  {
   "cell_type": "code",
   "execution_count": null,
   "id": "d0eceb08",
   "metadata": {
    "ExecuteTime": {
     "end_time": "2023-08-21T19:19:30.092612Z",
     "start_time": "2023-08-21T19:19:28.147539Z"
    }
   },
   "outputs": [],
   "source": [
    "## run performatation_importance on the rf  using the test data and random_state=SEED\n",
    "\n"
   ]
  },
  {
   "cell_type": "code",
   "execution_count": null,
   "id": "f3b29f18",
   "metadata": {
    "ExecuteTime": {
     "end_time": "2023-08-21T19:19:37.811933Z",
     "start_time": "2023-08-21T19:19:37.723255Z"
    }
   },
   "outputs": [],
   "source": [
    "## save the average importances as a Series\n",
    "\n",
    "\n"
   ]
  },
  {
   "cell_type": "code",
   "execution_count": null,
   "id": "26db5a6c",
   "metadata": {
    "ExecuteTime": {
     "end_time": "2023-08-21T19:19:41.823099Z",
     "start_time": "2023-08-21T19:19:41.410726Z"
    }
   },
   "outputs": [],
   "source": [
    "# Use our plot_importances function, but change title to \"Permutation Importance\"\n",
    "\n"
   ]
  },
  {
   "cell_type": "markdown",
   "id": "75d4c598",
   "metadata": {},
   "source": [
    "> Permutation Importance Can Be Applied to ANY Model!"
   ]
  },
  {
   "cell_type": "markdown",
   "id": "ed09fb6b",
   "metadata": {},
   "source": [
    "# 🕹️Global Model Explanations"
   ]
  },
  {
   "cell_type": "markdown",
   "id": "895d1c9c",
   "metadata": {
    "ExecuteTime": {
     "end_time": "2023-01-13T19:13:59.215605Z",
     "start_time": "2023-01-13T19:13:59.172852Z"
    }
   },
   "source": [
    "##  Applying Shap"
   ]
  },
  {
   "cell_type": "code",
   "execution_count": null,
   "id": "2ec89e9d",
   "metadata": {
    "ExecuteTime": {
     "end_time": "2023-08-21T19:20:02.835240Z",
     "start_time": "2023-08-21T19:20:02.379432Z"
    }
   },
   "outputs": [],
   "source": [
    "# Import and init shap\n",
    "\n",
    "\n"
   ]
  },
  {
   "cell_type": "markdown",
   "id": "5e41405c",
   "metadata": {},
   "source": [
    "### Gather a small random sample to speed the process"
   ]
  },
  {
   "cell_type": "code",
   "execution_count": null,
   "id": "9a10976a",
   "metadata": {
    "ExecuteTime": {
     "end_time": "2023-08-21T19:20:03.105986Z",
     "start_time": "2023-08-21T19:20:02.991792Z"
    }
   },
   "outputs": [],
   "source": [
    "# Take a sample of the training data (nsamples=500, use random_state=SEED)\n",
    "\n",
    "\n"
   ]
  },
  {
   "cell_type": "markdown",
   "id": "daf32ca7",
   "metadata": {},
   "source": [
    "## <center> SHAP Model Usage\n",
    "\n",
    "![shap usage by model](Data/SHAPcheatsheet.png)"
   ]
  },
  {
   "cell_type": "markdown",
   "id": "df311373",
   "metadata": {},
   "source": [
    "### Create SHAP Explainer and SHAP Values for Random Forest Model"
   ]
  },
  {
   "cell_type": "code",
   "execution_count": null,
   "id": "396f1dcc",
   "metadata": {
    "ExecuteTime": {
     "end_time": "2023-08-21T19:20:36.035719Z",
     "start_time": "2023-08-21T19:20:13.802540Z"
    }
   },
   "outputs": [],
   "source": [
    "# Instantiate a Model Explainer with the model\n",
    "\n",
    "\n",
    "## Get shap values from the explainer\n",
    "\n"
   ]
  },
  {
   "cell_type": "code",
   "execution_count": null,
   "id": "a8464f90",
   "metadata": {
    "ExecuteTime": {
     "end_time": "2023-08-21T19:20:36.122700Z",
     "start_time": "2023-08-21T19:20:36.036746Z"
    }
   },
   "outputs": [],
   "source": [
    "rf_shap_values.shape"
   ]
  },
  {
   "cell_type": "markdown",
   "id": "bcba2bdc",
   "metadata": {},
   "source": [
    "### Shap Values Contents\n",
    "\n",
    "Shap values includes the values for each feature, base values, and original data FOR EACH ROW\n",
    "\n",
    "So, 500 rows by 20 features"
   ]
  },
  {
   "cell_type": "code",
   "execution_count": null,
   "id": "93280b08",
   "metadata": {
    "ExecuteTime": {
     "end_time": "2023-08-21T19:20:36.222632Z",
     "start_time": "2023-08-21T19:20:36.123697Z"
    }
   },
   "outputs": [],
   "source": [
    "## Show one sample's SHAP values\n",
    "\n"
   ]
  },
  {
   "cell_type": "markdown",
   "id": "84d2d8b0",
   "metadata": {},
   "source": [
    "### Summary Bar Plot: Random Forest"
   ]
  },
  {
   "cell_type": "markdown",
   "id": "5ff91780",
   "metadata": {},
   "source": [
    "The `show=False` flag will allow us to manipulate the figure using matplotlib."
   ]
  },
  {
   "cell_type": "code",
   "execution_count": null,
   "id": "aa51c363",
   "metadata": {
    "ExecuteTime": {
     "end_time": "2023-07-27T22:50:13.401763Z",
     "start_time": "2023-07-27T22:50:12.992376Z"
    }
   },
   "outputs": [],
   "source": [
    "## create a summary plot (bar version)\n",
    "\n"
   ]
  },
  {
   "cell_type": "markdown",
   "id": "14b600da",
   "metadata": {},
   "source": [
    "### SHAP Dot Plot for Random Forest Model"
   ]
  },
  {
   "cell_type": "code",
   "execution_count": null,
   "id": "0a6d21ed",
   "metadata": {
    "ExecuteTime": {
     "end_time": "2023-08-21T19:25:16.617758Z",
     "start_time": "2023-08-21T19:25:15.931174Z"
    }
   },
   "outputs": [],
   "source": [
    "## create a summary plot for Random Forest (dot/default version)\n",
    "\n"
   ]
  },
  {
   "cell_type": "code",
   "execution_count": null,
   "id": "c09b7473",
   "metadata": {
    "ExecuteTime": {
     "end_time": "2023-08-21T19:23:31.932340Z",
     "start_time": "2023-08-21T19:23:31.539222Z"
    }
   },
   "outputs": [],
   "source": [
    "## create a summary plot for Random Forest (bar version)\n",
    "\n"
   ]
  },
  {
   "cell_type": "markdown",
   "id": "54472c7e",
   "metadata": {},
   "source": [
    "# <center> Local Explanations"
   ]
  },
  {
   "cell_type": "markdown",
   "id": "8dc36a92",
   "metadata": {},
   "source": [
    "### Reset Index"
   ]
  },
  {
   "cell_type": "code",
   "execution_count": null,
   "id": "bcdceadf-6c18-47ee-8d8c-cd8b994bd7fd",
   "metadata": {},
   "outputs": [],
   "source": [
    "print(X_shap.index[:5]"
   ]
  },
  {
   "cell_type": "markdown",
   "id": "b8e1987f",
   "metadata": {},
   "source": [
    "We need to be able to match a sample from X_shap to its Shap value, so we need to reindex."
   ]
  },
  {
   "cell_type": "code",
   "execution_count": null,
   "id": "0e86cf18",
   "metadata": {
    "ExecuteTime": {
     "end_time": "2023-08-21T19:26:10.614056Z",
     "start_time": "2023-08-21T19:26:10.515195Z"
    }
   },
   "outputs": [],
   "source": [
    "## Making a vers of shap vars with 0-based integer index \n",
    "# so what it matches the index for the shap_vallues\n",
    "\n",
    "\n"
   ]
  },
  {
   "cell_type": "markdown",
   "id": "76c48dd2",
   "metadata": {},
   "source": [
    "### Finding a Meaningful  Example to Explain"
   ]
  },
  {
   "cell_type": "markdown",
   "id": "c96054b5",
   "metadata": {},
   "source": [
    "- Let's find the example with the longest life expectancy."
   ]
  },
  {
   "cell_type": "code",
   "execution_count": null,
   "id": "337221dc",
   "metadata": {
    "ExecuteTime": {
     "end_time": "2023-08-21T19:26:13.008539Z",
     "start_time": "2023-08-21T19:26:12.922213Z"
    }
   },
   "outputs": [],
   "source": [
    "## What is the range of life expectancies?\n"
   ]
  },
  {
   "cell_type": "code",
   "execution_count": null,
   "id": "1addcfb6",
   "metadata": {
    "ExecuteTime": {
     "end_time": "2023-08-21T19:26:13.611317Z",
     "start_time": "2023-08-21T19:26:13.522938Z"
    }
   },
   "outputs": [],
   "source": [
    "## saving the index of the longest life expectancy\n",
    "\n"
   ]
  },
  {
   "cell_type": "code",
   "execution_count": null,
   "id": "1c08bd4b",
   "metadata": {
    "ExecuteTime": {
     "end_time": "2023-08-21T19:26:18.631461Z",
     "start_time": "2023-08-21T19:26:18.538459Z"
    }
   },
   "outputs": [],
   "source": [
    "## what was the actual life expectancy?\n",
    "\n"
   ]
  },
  {
   "cell_type": "code",
   "execution_count": null,
   "id": "afe4ad89",
   "metadata": {
    "ExecuteTime": {
     "end_time": "2023-08-21T19:26:14.979686Z",
     "start_time": "2023-08-21T19:26:14.883738Z"
    }
   },
   "outputs": [],
   "source": [
    "# checking the feature values for selected example\n",
    "\n"
   ]
  },
  {
   "cell_type": "markdown",
   "id": "a190a517",
   "metadata": {},
   "source": [
    "## Shap Force Plots"
   ]
  },
  {
   "cell_type": "markdown",
   "id": "454b298b",
   "metadata": {},
   "source": [
    "### Force Plot - RandomForest explanation"
   ]
  },
  {
   "cell_type": "code",
   "execution_count": null,
   "id": "6e15191c",
   "metadata": {
    "ExecuteTime": {
     "end_time": "2023-07-27T22:50:15.843455Z",
     "start_time": "2023-07-27T22:50:15.761324Z"
    }
   },
   "outputs": [],
   "source": [
    "## plotting example force plot for longest life expectancy (from rf)\n",
    "\n",
    "\n"
   ]
  },
  {
   "cell_type": "markdown",
   "id": "d9b5d9e9",
   "metadata": {},
   "source": [
    "# LIME: Random Forest Local Explanation"
   ]
  },
  {
   "cell_type": "code",
   "execution_count": null,
   "id": "bbdf4560",
   "metadata": {
    "ExecuteTime": {
     "end_time": "2023-08-21T19:27:04.825446Z",
     "start_time": "2023-08-21T19:27:04.731724Z"
    }
   },
   "outputs": [],
   "source": [
    "from lime.lime_tabular import LimeTabularExplainer\n",
    "\n",
    "## Create a lime explainer with X_shap_local with regression as the mode\n",
    "## Don't need to show it the model yet.\n",
    "\n",
    "\n",
    "\n",
    "\n"
   ]
  },
  {
   "cell_type": "markdown",
   "id": "cdc2f970-161c-4004-bf07-8d4989962e8d",
   "metadata": {},
   "source": [
    "We can show this as a dynamic plot with a lot of information, but this has limits.\n",
    "\n",
    "The features are listed from most to least impactful, but we can also choose the number of features with the `num_features=` argument when we explain the instance.  The default is 10."
   ]
  },
  {
   "cell_type": "code",
   "execution_count": null,
   "id": "d5c39ccd",
   "metadata": {
    "ExecuteTime": {
     "end_time": "2023-08-21T19:27:21.963580Z",
     "start_time": "2023-08-21T19:27:21.753843Z"
    }
   },
   "outputs": [],
   "source": [
    "## Use the lime explainer to explain the selected example used above.  Show 20 features.\n",
    "\n",
    "\n",
    "\n"
   ]
  },
  {
   "cell_type": "markdown",
   "id": "a7c7e43d-81c6-4352-98e7-c82f2649acd4",
   "metadata": {},
   "source": [
    "## Show Lime Explanation as PyPlot Figure\n",
    "\n",
    "This view gets cramped and can be hard to see and read.  We can also show it as a pyplot figure that's easier to manipulate and read...and save!\n",
    "\n",
    "use: `.as_pyplot_figure()` method."
   ]
  },
  {
   "cell_type": "code",
   "execution_count": null,
   "id": "16614ce8-990c-4dc8-b389-08ea66ae5e02",
   "metadata": {},
   "outputs": [],
   "source": [
    "## Show as PyPlot figure\n"
   ]
  },
  {
   "cell_type": "markdown",
   "id": "359d682d",
   "metadata": {},
   "source": [
    "___\n",
    "# APPENDIX"
   ]
  },
  {
   "cell_type": "markdown",
   "id": "5575346e",
   "metadata": {},
   "source": [
    "### Global Force Plots"
   ]
  },
  {
   "cell_type": "code",
   "execution_count": null,
   "id": "0c94b6fe",
   "metadata": {
    "ExecuteTime": {
     "end_time": "2023-07-27T22:50:16.494607Z",
     "start_time": "2023-07-27T22:50:16.163868Z"
    }
   },
   "outputs": [],
   "source": [
    "shap.force_plot(linreg_explainer.expected_value, linreg_shap_values.values,X_shap_local,)"
   ]
  },
  {
   "cell_type": "code",
   "execution_count": null,
   "id": "dfb88a7f",
   "metadata": {
    "ExecuteTime": {
     "end_time": "2023-07-27T22:50:17.178780Z",
     "start_time": "2023-07-27T22:50:16.495880Z"
    }
   },
   "outputs": [],
   "source": [
    "shap.force_plot(rf_explainer.expected_value,rf_shap_values.values,X_shap_local)"
   ]
  },
  {
   "cell_type": "code",
   "execution_count": null,
   "id": "c6115308",
   "metadata": {},
   "outputs": [],
   "source": []
  }
 ],
 "metadata": {
  "kernelspec": {
   "display_name": "Python (dojo-env)",
   "language": "python",
   "name": "dojo-env"
  },
  "language_info": {
   "codemirror_mode": {
    "name": "ipython",
    "version": 3
   },
   "file_extension": ".py",
   "mimetype": "text/x-python",
   "name": "python",
   "nbconvert_exporter": "python",
   "pygments_lexer": "ipython3",
   "version": "3.10.10"
  },
  "toc": {
   "base_numbering": 1,
   "nav_menu": {},
   "number_sections": false,
   "sideBar": true,
   "skip_h1_title": false,
   "title_cell": "Table of Contents",
   "title_sidebar": "Contents",
   "toc_cell": false,
   "toc_position": {
    "height": "calc(100% - 180px)",
    "left": "10px",
    "top": "150px",
    "width": "247.997px"
   },
   "toc_section_display": true,
   "toc_window_display": true
  },
  "widgets": {
   "application/vnd.jupyter.widget-state+json": {
    "state": {},
    "version_major": 2,
    "version_minor": 0
   }
  }
 },
 "nbformat": 4,
 "nbformat_minor": 5
}
